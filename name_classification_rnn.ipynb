{
  "nbformat": 4,
  "nbformat_minor": 0,
  "metadata": {
    "colab": {
      "name": "name-classification-rnn.ipynb",
      "provenance": [],
      "collapsed_sections": [],
      "authorship_tag": "ABX9TyP07Iw34LDEj1H1ZvbZAYcH",
      "include_colab_link": true
    },
    "kernelspec": {
      "name": "python3",
      "display_name": "Python 3"
    },
    "language_info": {
      "name": "python"
    },
    "accelerator": "GPU"
  },
  "cells": [
    {
      "cell_type": "markdown",
      "metadata": {
        "id": "view-in-github",
        "colab_type": "text"
      },
      "source": [
        "<a href=\"https://colab.research.google.com/github/masalha-alaa/name-classification-pytorch/blob/master/name_classification_rnn.ipynb\" target=\"_parent\"><img src=\"https://colab.research.google.com/assets/colab-badge.svg\" alt=\"Open In Colab\"/></a>"
      ]
    },
    {
      "cell_type": "code",
      "metadata": {
        "id": "_ePkyy-Oc8JX"
      },
      "source": [
        "import os\n",
        "from google.colab import drive\n",
        "\n",
        "import torch\n",
        "import torch.nn as nn\n",
        "from torch.optim.lr_scheduler import ReduceLROnPlateau, MultiStepLR\n",
        "import torch.nn.functional as F\n",
        "from torch.utils.data import Dataset, DataLoader, ConcatDataset\n",
        "import torch.utils.data as data_utils\n",
        "\n",
        "import numpy as np\n",
        "import pandas as pd\n",
        "from scipy.sparse import csr_matrix\n",
        "\n",
        "from pathlib import Path\n",
        "import zipfile\n",
        "from pickle import load\n",
        "\n",
        "from sklearn.feature_extraction.text import CountVectorizer, TfidfVectorizer\n",
        "from sklearn.preprocessing import LabelEncoder\n",
        "from sklearn.metrics import confusion_matrix\n",
        "from sklearn import utils\n",
        "\n",
        "from bisect import bisect_left\n",
        "\n",
        "import random\n",
        "from tqdm.notebook import tqdm\n",
        "import matplotlib.pyplot as plt\n",
        "import itertools\n",
        "import copy\n",
        "from math import ceil\n",
        "from datetime import datetime\n",
        "\n",
        "SEED = 42"
      ],
      "execution_count": 1,
      "outputs": []
    },
    {
      "cell_type": "code",
      "metadata": {
        "id": "aqSmIBfbdFnr",
        "colab": {
          "base_uri": "https://localhost:8080/"
        },
        "outputId": "bb843918-ca44-4758-d0d8-bda3d23e0e9f"
      },
      "source": [
        "drive.mount('/content/gdrive')"
      ],
      "execution_count": 2,
      "outputs": [
        {
          "output_type": "stream",
          "text": [
            "Drive already mounted at /content/gdrive; to attempt to forcibly remount, call drive.mount(\"/content/gdrive\", force_remount=True).\n"
          ],
          "name": "stdout"
        }
      ]
    },
    {
      "cell_type": "code",
      "metadata": {
        "id": "nyxolX3BdIb6",
        "colab": {
          "base_uri": "https://localhost:8080/"
        },
        "outputId": "c3df3686-1038-40a5-d5ed-7dcf0312c147"
      },
      "source": [
        "# Use GPU if available\n",
        "\n",
        "device = 'cuda' if torch.cuda.is_available() else 'cpu'\n",
        "print(f'Running on {device}')"
      ],
      "execution_count": 3,
      "outputs": [
        {
          "output_type": "stream",
          "text": [
            "Running on cuda\n"
          ],
          "name": "stdout"
        }
      ]
    },
    {
      "cell_type": "code",
      "metadata": {
        "id": "XUg6FapjdJes",
        "colab": {
          "base_uri": "https://localhost:8080/"
        },
        "outputId": "97dd6609-5938-4967-bd54-10180eafdb23"
      },
      "source": [
        "# Extract data\n",
        "\n",
        "DATA_DIR = Path(\"/content/gdrive/MyDrive/name-classification/\")\n",
        "\n",
        "if not os.path.exists(DATA_DIR / 'data'):\n",
        "    print('Extracting data...')\n",
        "    with zipfile.ZipFile(DATA_DIR / 'data.zip', 'r') as z:\n",
        "        z.extractall(DATA_DIR)\n",
        "    print('Done')\n",
        "\n",
        "data = {}\n",
        "for f in os.listdir(DATA_DIR / 'data'):\n",
        "    data[f.replace('.txt', '')] = [name.strip() for name in open(DATA_DIR / 'data' / f).readlines()]\n",
        "\n",
        "print(f\"{len(data)} files: {data.keys()}\")"
      ],
      "execution_count": 4,
      "outputs": [
        {
          "output_type": "stream",
          "text": [
            "18 files: dict_keys(['Arabic', 'Chinese', 'Czech', 'Dutch', 'English', 'French', 'German', 'Greek', 'Irish', 'Italian', 'Japanese', 'Korean', 'Polish', 'Portuguese', 'Russian', 'Scottish', 'Spanish', 'Vietnamese'])\n"
          ],
          "name": "stdout"
        }
      ]
    },
    {
      "cell_type": "code",
      "metadata": {
        "id": "jIaR_8tgfM6B",
        "colab": {
          "base_uri": "https://localhost:8080/"
        },
        "outputId": "83700fcc-196f-456b-cb3f-162052595492"
      },
      "source": [
        "# Take a look at some data\n",
        "\n",
        "show_langs, show_names = 4, 5\n",
        "for i,(k,v) in enumerate(data.items()):\n",
        "    print(f'{k}: {[name for name in v[:show_names]]}')\n",
        "    if i == show_langs:\n",
        "        break"
      ],
      "execution_count": 5,
      "outputs": [
        {
          "output_type": "stream",
          "text": [
            "Arabic: ['Khoury', 'Nahas', 'Daher', 'Gerges', 'Nazari']\n",
            "Chinese: ['Ang', 'Au-Yong', 'Bai', 'Ban', 'Bao']\n",
            "Czech: ['Abl', 'Adsit', 'Ajdrna', 'Alt', 'Antonowitsch']\n",
            "Dutch: ['Aalsburg', 'Aalst', 'Aarle', 'Achteren', 'Achthoven']\n",
            "English: ['Abbas', 'Abbey', 'Abbott', 'Abdi', 'Abel']\n"
          ],
          "name": "stdout"
        }
      ]
    },
    {
      "cell_type": "code",
      "metadata": {
        "colab": {
          "base_uri": "https://localhost:8080/",
          "height": 699
        },
        "id": "vBNIb-H8MPSQ",
        "outputId": "222469e8-91b1-4648-ae5b-5c1ef30b298f"
      },
      "source": [
        "# Convert to dataframe for ease of use\n",
        "DATA, LABEL = 'data', 'label'\n",
        "df = pd.DataFrame(data=[[name, lang] for lang in data.keys() for name in data[lang]], columns=[DATA, LABEL]);\n",
        "df_grouped = df.groupby(LABEL)\n",
        "print(df_grouped.count())  # => it's massively biased!!!\n",
        "df.sample(10)"
      ],
      "execution_count": 6,
      "outputs": [
        {
          "output_type": "stream",
          "text": [
            "            data\n",
            "label           \n",
            "Arabic      2000\n",
            "Chinese      268\n",
            "Czech        519\n",
            "Dutch        297\n",
            "English     3668\n",
            "French       277\n",
            "German       724\n",
            "Greek        203\n",
            "Irish        232\n",
            "Italian      709\n",
            "Japanese     991\n",
            "Korean        94\n",
            "Polish       139\n",
            "Portuguese    74\n",
            "Russian     9408\n",
            "Scottish     100\n",
            "Spanish      298\n",
            "Vietnamese    73\n"
          ],
          "name": "stdout"
        },
        {
          "output_type": "execute_result",
          "data": {
            "text/html": [
              "<div>\n",
              "<style scoped>\n",
              "    .dataframe tbody tr th:only-of-type {\n",
              "        vertical-align: middle;\n",
              "    }\n",
              "\n",
              "    .dataframe tbody tr th {\n",
              "        vertical-align: top;\n",
              "    }\n",
              "\n",
              "    .dataframe thead th {\n",
              "        text-align: right;\n",
              "    }\n",
              "</style>\n",
              "<table border=\"1\" class=\"dataframe\">\n",
              "  <thead>\n",
              "    <tr style=\"text-align: right;\">\n",
              "      <th></th>\n",
              "      <th>data</th>\n",
              "      <th>label</th>\n",
              "    </tr>\n",
              "  </thead>\n",
              "  <tbody>\n",
              "    <tr>\n",
              "      <th>7514</th>\n",
              "      <td>Rapp</td>\n",
              "      <td>German</td>\n",
              "    </tr>\n",
              "    <tr>\n",
              "      <th>9375</th>\n",
              "      <td>Minamoto</td>\n",
              "      <td>Japanese</td>\n",
              "    </tr>\n",
              "    <tr>\n",
              "      <th>754</th>\n",
              "      <td>Khoury</td>\n",
              "      <td>Arabic</td>\n",
              "    </tr>\n",
              "    <tr>\n",
              "      <th>10116</th>\n",
              "      <td>Zdunowski</td>\n",
              "      <td>Polish</td>\n",
              "    </tr>\n",
              "    <tr>\n",
              "      <th>13458</th>\n",
              "      <td>Grant</td>\n",
              "      <td>Russian</td>\n",
              "    </tr>\n",
              "    <tr>\n",
              "      <th>3414</th>\n",
              "      <td>Bramley</td>\n",
              "      <td>English</td>\n",
              "    </tr>\n",
              "    <tr>\n",
              "      <th>5797</th>\n",
              "      <td>Povey</td>\n",
              "      <td>English</td>\n",
              "    </tr>\n",
              "    <tr>\n",
              "      <th>14318</th>\n",
              "      <td>Jakhnyuk</td>\n",
              "      <td>Russian</td>\n",
              "    </tr>\n",
              "    <tr>\n",
              "      <th>7932</th>\n",
              "      <td>Strilakos</td>\n",
              "      <td>Greek</td>\n",
              "    </tr>\n",
              "    <tr>\n",
              "      <th>15969</th>\n",
              "      <td>Molevich</td>\n",
              "      <td>Russian</td>\n",
              "    </tr>\n",
              "  </tbody>\n",
              "</table>\n",
              "</div>"
            ],
            "text/plain": [
              "            data     label\n",
              "7514        Rapp    German\n",
              "9375    Minamoto  Japanese\n",
              "754       Khoury    Arabic\n",
              "10116  Zdunowski    Polish\n",
              "13458      Grant   Russian\n",
              "3414     Bramley   English\n",
              "5797       Povey   English\n",
              "14318   Jakhnyuk   Russian\n",
              "7932   Strilakos     Greek\n",
              "15969   Molevich   Russian"
            ]
          },
          "metadata": {
            "tags": []
          },
          "execution_count": 6
        }
      ]
    },
    {
      "cell_type": "code",
      "metadata": {
        "colab": {
          "base_uri": "https://localhost:8080/"
        },
        "id": "96E3BjYFV4IK",
        "outputId": "bc718968-899d-4b2e-958e-3dc44196161b"
      },
      "source": [
        "\n",
        "df_train = df_grouped.sample(frac=0.8, random_state=SEED)\n",
        "df_train_idx_set = set(df_train.index)\n",
        "df_test = df.loc[[idx for idx in df.index if idx not in df_train_idx_set], :]\n",
        "print(f\"[Train]:\\n{df_train.groupby(LABEL).count()}\\n({df_train.shape[0]} entries)\\n\\nSamples:\\n{df_train.sample(5, random_state=SEED)}\")\n",
        "print('')\n",
        "print(f\"[Test]:\\n{df_test.groupby(LABEL).count()}\\n({df_test.shape[0]} entries)\\n\\nSamples:\\n{df_test.sample(5, random_state=SEED)}\")\n",
        "\n",
        "df_train.reset_index(drop=True, inplace=True)\n",
        "df_test.reset_index(drop=True, inplace=True)"
      ],
      "execution_count": 7,
      "outputs": [
        {
          "output_type": "stream",
          "text": [
            "[Train]:\n",
            "            data\n",
            "label           \n",
            "Arabic      1600\n",
            "Chinese      214\n",
            "Czech        415\n",
            "Dutch        238\n",
            "English     2934\n",
            "French       222\n",
            "German       579\n",
            "Greek        162\n",
            "Irish        186\n",
            "Italian      567\n",
            "Japanese     793\n",
            "Korean        75\n",
            "Polish       111\n",
            "Portuguese    59\n",
            "Russian     7526\n",
            "Scottish      80\n",
            "Spanish      238\n",
            "Vietnamese    58\n",
            "(16057 entries)\n",
            "\n",
            "Samples:\n",
            "          data    label\n",
            "1775   Shamoun   Arabic\n",
            "2006      Bian  Chinese\n",
            "19994   Zabala  Spanish\n",
            "6373    Towers  English\n",
            "234      Antar   Arabic\n",
            "\n",
            "[Test]:\n",
            "            data\n",
            "label           \n",
            "Arabic       400\n",
            "Chinese       54\n",
            "Czech        104\n",
            "Dutch         59\n",
            "English      734\n",
            "French        55\n",
            "German       145\n",
            "Greek         41\n",
            "Irish         46\n",
            "Italian      142\n",
            "Japanese     198\n",
            "Korean        19\n",
            "Polish        28\n",
            "Portuguese    15\n",
            "Russian     1882\n",
            "Scottish      20\n",
            "Spanish       60\n",
            "Vietnamese    15\n",
            "(4017 entries)\n",
            "\n",
            "Samples:\n",
            "            data    label\n",
            "5295     Mcelroy  English\n",
            "5950      Rivers  English\n",
            "13532       Grot  Russian\n",
            "6429      Tuttle  English\n",
            "18400  Vanchagov  Russian\n"
          ],
          "name": "stdout"
        }
      ]
    },
    {
      "cell_type": "code",
      "metadata": {
        "id": "J4y8JbOkJSVy"
      },
      "source": [
        "# encode labels\n",
        "\n",
        "le = LabelEncoder()\n",
        "encoded_lbls = le.fit_transform(list(data))  # list(data) makes a list of the dictionary's KEYS! (i.e. the countries)\n",
        "\n",
        "def lbl_to_id(lbl):\n",
        "    if torch.is_tensor(lbl):\n",
        "        lbl = lbl.cpu().numpy()\n",
        "    if isinstance(lbl, np.ndarray):\n",
        "        return le.transform(lbl)[0]\n",
        "    return le.transform([lbl])[0]\n",
        "\n",
        "def id_to_lbl(lbl_id):\n",
        "    if torch.is_tensor(lbl_id):\n",
        "        lbl_id = lbl_id.cpu().numpy()\n",
        "    if isinstance(lbl_id, np.ndarray):\n",
        "        return le.inverse_transform(lbl_id)[0]\n",
        "    return le.inverse_transform([lbl_id])[0]"
      ],
      "execution_count": 8,
      "outputs": []
    },
    {
      "cell_type": "code",
      "metadata": {
        "id": "q5-UPHN4gbQu",
        "colab": {
          "base_uri": "https://localhost:8080/"
        },
        "outputId": "1681dc9d-ad29-4303-f6a0-6710affbd257"
      },
      "source": [
        "# The unique characters in the files\n",
        "vocab = sorted(set(' '.join(sum(data.values(), []))))\n",
        "vocab_d = {k:v for v,k in enumerate(vocab)}\n",
        "vocab_inv = {v:k for v,k in enumerate(vocab)}\n",
        "print(f'{len(vocab)} unique characters')\n",
        "print(vocab[:20])"
      ],
      "execution_count": 9,
      "outputs": [
        {
          "output_type": "stream",
          "text": [
            "87 unique characters\n",
            "[' ', \"'\", ',', '-', '/', '1', ':', 'A', 'B', 'C', 'D', 'E', 'F', 'G', 'H', 'I', 'J', 'K', 'L', 'M']\n"
          ],
          "name": "stdout"
        }
      ]
    },
    {
      "cell_type": "markdown",
      "metadata": {
        "id": "YBAsXShhhJAT"
      },
      "source": [
        "## Text Vectorization"
      ]
    },
    {
      "cell_type": "code",
      "metadata": {
        "id": "vEMJOqEghGn-"
      },
      "source": [
        "# letters one hot encoding\n",
        "def ltr_one_hot(ltr, num_cats):\n",
        "    # num_cats: number of categories for the one hot encoding (usually len(vocab))\n",
        "    def char_to_id(ch):\n",
        "        return vocab_d[ch]\n",
        "    return torch.nn.functional.one_hot(torch.LongTensor([char_to_id(ltr)]), num_cats)\n",
        "\n",
        "# line one hot\n",
        "def line_to_one_hot_tensor(line, num_cats):\n",
        "    # num_cats: number of categories for the one hot encoding (usually len(vocab))\n",
        "    line_one_hot = None\n",
        "    for i, ltr in enumerate(line):\n",
        "        if line_one_hot is None:\n",
        "            line_one_hot = ltr_one_hot(ltr, num_cats)\n",
        "            # print(line_one_hot.shape)\n",
        "        else:\n",
        "            line_one_hot = torch.cat([line_one_hot, ltr_one_hot(ltr, num_cats)])\n",
        "    # return torch.unsqueeze(line_one_hot, 1)\n",
        "    return line_one_hot.type(torch.FloatTensor)\n",
        "\n",
        "def one_hot_tensor_to_line(one_hot_tensor):\n",
        "    line = ''\n",
        "    for one_hot_ltr in one_hot_tensor:\n",
        "        line += vocab_inv[torch.argmax(one_hot_ltr).item()]\n",
        "    return line"
      ],
      "execution_count": 10,
      "outputs": []
    },
    {
      "cell_type": "code",
      "metadata": {
        "id": "Y77enPrqYy1A"
      },
      "source": [
        "class MyDataset(Dataset):\n",
        "    def __init__(self, dataframe):\n",
        "        self.sequences = dataframe[DATA].apply(lambda name: line_to_one_hot_tensor(name, len(vocab))).tolist()\n",
        "        self.labels = dataframe[LABEL].apply(lbl_to_id).tolist()\n",
        "    \n",
        "    def __getitem__(self, i):\n",
        "        return self.sequences[i], self.labels[i]\n",
        "    \n",
        "    def __len__(self):\n",
        "        return len(self.sequences)\n",
        "\n",
        "\n",
        "training_dataset = MyDataset(df_train)\n",
        "test_dataset = MyDataset(df_test)\n",
        "\n",
        "train_loader = DataLoader(training_dataset, batch_size=1, shuffle=True)\n",
        "test_loader = DataLoader(test_dataset, batch_size=1, shuffle=True)"
      ],
      "execution_count": 11,
      "outputs": []
    },
    {
      "cell_type": "code",
      "metadata": {
        "id": "ttU6Y88Ps_2_",
        "colab": {
          "base_uri": "https://localhost:8080/"
        },
        "outputId": "489a8773-372c-446f-f6b9-e821386b12e4"
      },
      "source": [
        "line_to_one_hot_tensor(\"slim shady\", len(vocab)).shape"
      ],
      "execution_count": 12,
      "outputs": [
        {
          "output_type": "execute_result",
          "data": {
            "text/plain": [
              "torch.Size([10, 87])"
            ]
          },
          "metadata": {
            "tags": []
          },
          "execution_count": 12
        }
      ]
    },
    {
      "cell_type": "markdown",
      "metadata": {
        "id": "PeFxwWosxTOZ"
      },
      "source": [
        "# Model"
      ]
    },
    {
      "cell_type": "code",
      "metadata": {
        "id": "NaPRHVzHxSyD"
      },
      "source": [
        "class RNN(nn.Module):\n",
        "    def __init__(self, input_size, num_classes):\n",
        "        super(RNN, self).__init__()\n",
        "        self.hidden_size = 128\n",
        "        self.num_layers = 1\n",
        "        self.rnn = nn.RNN(input_size, self.hidden_size, self.num_layers, batch_first=True)\n",
        "        self.fc = nn.Linear(self.hidden_size, num_classes)\n",
        "        self.softmax = nn.LogSoftmax(dim=1)\n",
        "    \n",
        "    def init_hidden(self):\n",
        "        return torch.randn(self.num_layers, 1, self.hidden_size).to(device), None  # to make it match with LSTM\n",
        "\n",
        "    def forward(self, x, h0):\n",
        "        out, h0 = self.rnn(x, h0)\n",
        "        # out = out.reshape(out.shape[0], -1)\n",
        "        out = out[:, -1, :]\n",
        "        out = self.softmax(self.fc(out))\n",
        "        return out, h0, None  # the 3rd arg is to make it match with LSTM api\n",
        "\n",
        "\n",
        "class ManualRNN(nn.Module):\n",
        "    # from: https://pytorch.org/tutorials/intermediate/char_rnn_classification_tutorial.html\n",
        "    # (with modifications)\n",
        "    def __init__(self, input_size, num_classes):\n",
        "        super(ManualRNN, self).__init__()\n",
        "        \n",
        "        self.hidden_size = 128\n",
        "        self.i2h = nn.Linear(input_size + self.hidden_size, self.hidden_size)\n",
        "        self.i2o = nn.Linear(input_size + self.hidden_size, num_classes)\n",
        "        self.softmax = nn.LogSoftmax(dim=1)\n",
        "        \n",
        "    def init_hidden(self):\n",
        "        return torch.zeros(1, 1, self.hidden_size).to(device), None  # to make it match with LSTM\n",
        "\n",
        "    def forward(self, input_tensor, hidden_tensor):\n",
        "        combined = torch.cat((input_tensor, hidden_tensor), 2)\n",
        "        \n",
        "        hidden = self.i2h(combined)\n",
        "        output = self.i2o(combined)\n",
        "        output = output[:, -1, :]\n",
        "        output = self.softmax(output)\n",
        "        return output, hidden, None  # the 3rd arg is to make it match with LSTM api\n",
        "\n",
        "\n",
        "class LSTM(nn.Module):\n",
        "    def __init__(self, input_size, num_classes):\n",
        "        super(LSTM, self).__init__()\n",
        "        self.hidden_size = 128\n",
        "        self.num_layers = 1\n",
        "        self.rnn = nn.LSTM(input_size, self.hidden_size, self.num_layers, batch_first=True)\n",
        "        self.fc = nn.Linear(self.hidden_size, num_classes)\n",
        "        self.softmax = nn.LogSoftmax(dim=1)\n",
        "    \n",
        "    def init_hidden(self):\n",
        "        h0 = torch.randn(self.num_layers, 1, self.hidden_size).to(device)\n",
        "        c0 = torch.randn(self.num_layers, 1, self.hidden_size).to(device)\n",
        "        return h0, c0\n",
        "\n",
        "    def forward(self, x, h0, c0):\n",
        "        out, hidden = self.rnn(x, (h0, c0))\n",
        "        h0, c0 = hidden\n",
        "        # out = out.reshape(out.shape[0], -1)\n",
        "        out = out[:, -1, :]\n",
        "        out = self.softmax(self.fc(out))\n",
        "        return out, h0, c0\n",
        "\n",
        "\n",
        "class GRU(nn.Module):\n",
        "    def __init__(self, input_size, num_classes):\n",
        "        super(GRU, self).__init__()\n",
        "        self.hidden_size = 128\n",
        "        self.num_layers = 1\n",
        "        self.rnn = nn.GRU(input_size, self.hidden_size, self.num_layers, batch_first=True)\n",
        "        self.fc = nn.Linear(self.hidden_size, num_classes)\n",
        "        self.softmax = nn.LogSoftmax(dim=1)\n",
        "    \n",
        "    def init_hidden(self):\n",
        "        return torch.randn(self.num_layers, 1, self.hidden_size).to(device), None  # to make it match with LSTM\n",
        "\n",
        "    def forward(self, x, h0):\n",
        "        out, hidden = self.rnn(x, h0)\n",
        "        # out = out.reshape(out.shape[0], -1)\n",
        "        out = out[:, -1, :]\n",
        "        out = self.softmax(self.fc(out))\n",
        "        return out, hidden, None  # the 3rd arg is to make it match with LSTM api\n",
        "\n",
        "\n",
        "# model = RNN(len(vocab), len(data)).to(device)\n",
        "# model = LSTM(len(vocab), len(data)).to(device)\n",
        "# model = GRU(len(vocab), len(data)).to(device)\n",
        "# model = ManualRNN(len(vocab), len(data)).to(device)\n",
        "# => moved to the bottom\n",
        "\n",
        "# Loss and optimizer\n",
        "# criterion = nn.CrossEntropyLoss()\n",
        "criterion = nn.NLLLoss()\n",
        "learning_rate = 0.005\n",
        "# learning_rate = 0.0001\n",
        "optimizer = lambda mdl: torch.optim.SGD(mdl.parameters(), lr=learning_rate)  \n",
        "# optimizer = lambda mdl: torch.optim.Adam(mdl.parameters(), lr=learning_rate)"
      ],
      "execution_count": 22,
      "outputs": []
    },
    {
      "cell_type": "code",
      "metadata": {
        "id": "XrYAQvUIIunJ"
      },
      "source": [
        "def softmax_to_prediction(softmax_output, classes):\n",
        "    return classes[torch.argmax(softmax_output).item()]"
      ],
      "execution_count": 14,
      "outputs": []
    },
    {
      "cell_type": "code",
      "metadata": {
        "id": "n5oR05jIDPjp",
        "colab": {
          "base_uri": "https://localhost:8080/"
        },
        "outputId": "44d59ff5-e362-4a3c-feb7-c75ab9230256"
      },
      "source": [
        "# one step test\n",
        "model_test = ManualRNN(len(vocab), len(data)).to(device)\n",
        "input_tensor = ltr_one_hot('A', len(vocab)).to(device).unsqueeze(0)  # unsqueeze to imitate batch of size 1\n",
        "input_tensor = input_tensor.type(torch.FloatTensor).to(device)\n",
        "h0, c0 = model_test.init_hidden()\n",
        "\n",
        "if c0 is None:\n",
        "    output, next_hidden, _ = model_test(input_tensor, h0)\n",
        "else:\n",
        "    # LSTM\n",
        "    output, next_hidden, cell_state = model_test(input_tensor.type(torch.FloatTensor), h0, c0)\n",
        "\n",
        "print(f'input_tensor {input_tensor.shape}:\\n{input_tensor}')\n",
        "print(f'output {output.size()}')\n",
        "print(f'next_hidden {next_hidden.size()}')\n",
        "\n",
        "print(f'\\nPrediction: {id_to_lbl(softmax_to_prediction(output, encoded_lbls))}')\n",
        "model_test = None"
      ],
      "execution_count": 15,
      "outputs": [
        {
          "output_type": "stream",
          "text": [
            "input_tensor torch.Size([1, 1, 87]):\n",
            "tensor([[[0., 0., 0., 0., 0., 0., 0., 1., 0., 0., 0., 0., 0., 0., 0., 0., 0.,\n",
            "          0., 0., 0., 0., 0., 0., 0., 0., 0., 0., 0., 0., 0., 0., 0., 0., 0.,\n",
            "          0., 0., 0., 0., 0., 0., 0., 0., 0., 0., 0., 0., 0., 0., 0., 0., 0.,\n",
            "          0., 0., 0., 0., 0., 0., 0., 0., 0., 0., 0., 0., 0., 0., 0., 0., 0.,\n",
            "          0., 0., 0., 0., 0., 0., 0., 0., 0., 0., 0., 0., 0., 0., 0., 0., 0.,\n",
            "          0., 0.]]], device='cuda:0')\n",
            "output torch.Size([1, 18])\n",
            "next_hidden torch.Size([1, 1, 128])\n",
            "\n",
            "Prediction: Portuguese\n"
          ],
          "name": "stdout"
        }
      ]
    },
    {
      "cell_type": "code",
      "metadata": {
        "id": "e8OB85wYLvCa"
      },
      "source": [
        "def evaluate(model, optim, line_tensor, category_tensor, train=False, log=False):\n",
        "    h0, c0 = model.init_hidden()\n",
        "    \n",
        "    for ltr_one_hot in line_tensor[0]:\n",
        "        if c0 is None:\n",
        "            output, h0, _ = model(torch.reshape(ltr_one_hot, (1,1,-1)), h0)\n",
        "        else:\n",
        "            # LSTM\n",
        "            output, h0, c0 = model(torch.reshape(ltr_one_hot, (1,1,-1)), h0, c0)\n",
        "    \n",
        "    if log:\n",
        "        print(f'output {output.shape}:\\n{output}')\n",
        "        print(f'category_tensor {category_tensor.shape}:\\n{category_tensor}')\n",
        "    loss = criterion(output, category_tensor)\n",
        "    \n",
        "    if train:\n",
        "        optim.zero_grad()\n",
        "        loss.backward()\n",
        "        optim.step()\n",
        "    \n",
        "    return output, loss.item()"
      ],
      "execution_count": 16,
      "outputs": []
    },
    {
      "cell_type": "code",
      "metadata": {
        "id": "cKQgv542MrL2"
      },
      "source": [
        "def train(model):\n",
        "    ts = datetime.now()\n",
        "    print(ts)\n",
        "    print('')\n",
        "\n",
        "    optim = optimizer(model)\n",
        "    train_losses, validation_losses = [], []\n",
        "    epochs = 30\n",
        "    model.train(mode=True)\n",
        "    for epoch in range(epochs):\n",
        "        epoch_train_loss, epoch_validation_loss = 0, 0\n",
        "        for name_tensor, label in train_loader:\n",
        "            name_tensor, label = name_tensor.to(device), label.to(device)\n",
        "\n",
        "            output, loss = evaluate(model, optim, name_tensor, label, train=True)\n",
        "            epoch_train_loss += loss\n",
        "        \n",
        "        train_losses.append(epoch_train_loss / len(training_dataset))\n",
        "\n",
        "        # validation eval\n",
        "        model.train(mode=False)  # enter eval mode\n",
        "        for val_data, val_labels in test_loader:\n",
        "            val_data, val_labels = val_data.to(device), val_labels.to(device)\n",
        "            \n",
        "            val_output, val_loss = evaluate(model, None, val_data, val_labels)\n",
        "            epoch_validation_loss += val_loss\n",
        "            \n",
        "        validation_losses.append(epoch_validation_loss / len(test_dataset))\n",
        "        model.train(mode=True)  # exit eval mode, re-enter training mode\n",
        "            \n",
        "        print(f\"Epoch {epoch}: Training Loss: {train_losses[-1]:.4f}, Validation Loss: {validation_losses[-1]:.4f}\")\n",
        "            \n",
        "\n",
        "    print('')\n",
        "    print(f'Training Time: {datetime.now() - ts}')\n",
        "    plt.figure()\n",
        "    plt.plot(train_losses)\n",
        "    plt.plot(validation_losses)\n",
        "    plt.legend(['Training Loss', 'Validation Loss'])\n",
        "    plt.show()"
      ],
      "execution_count": 25,
      "outputs": []
    },
    {
      "cell_type": "code",
      "metadata": {
        "id": "v9slhmMK4uBq"
      },
      "source": [
        "def test(model):\n",
        "    model.train(mode=False)  # enter eval mode\n",
        "    # with torch.no_grad():  # locally disable gradient tracking? (no, should not do it in RNN, becaues we do want grads to accumulate!)\n",
        "    print_cnt, print_num = 0, 20\n",
        "    for val_data, val_labels in test_loader:\n",
        "        val_data, val_labels = val_data.to(device), val_labels.to(device)\n",
        "        \n",
        "        val_output, _ = evaluate(model, None, val_data, val_labels)\n",
        "        pred = id_to_lbl(softmax_to_prediction(val_output, encoded_lbls))\n",
        "\n",
        "        name = one_hot_tensor_to_line(val_data.squeeze(0))\n",
        "        lbl = id_to_lbl(val_labels)\n",
        "        \n",
        "        print(f\"Name: {name:<16} Label: {lbl:<20} Prediction: {pred:<16} -- {'CORRECT' if lbl == pred else 'INCORRECT'}\")\n",
        "        print_cnt += 1\n",
        "        if print_cnt == print_num:\n",
        "            break"
      ],
      "execution_count": 18,
      "outputs": []
    },
    {
      "cell_type": "code",
      "metadata": {
        "colab": {
          "base_uri": "https://localhost:8080/",
          "height": 1000
        },
        "id": "bdG5TWt9n1Zu",
        "outputId": "c5494e22-c602-4186-f5a9-31cf4c332f92"
      },
      "source": [
        "model = ManualRNN(len(vocab), len(data)).to(device)\n",
        "print(model)\n",
        "train(model)\n",
        "test(model)"
      ],
      "execution_count": 19,
      "outputs": [
        {
          "output_type": "stream",
          "text": [
            "ManualRNN(\n",
            "  (i2h): Linear(in_features=215, out_features=128, bias=True)\n",
            "  (i2o): Linear(in_features=215, out_features=18, bias=True)\n",
            "  (softmax): LogSoftmax(dim=1)\n",
            ")\n",
            "2021-07-31 10:44:52.474430\n",
            "\n",
            "Epoch 0: Training Loss: 1.4433, Validation Loss: 1.2666\n",
            "Epoch 1: Training Loss: 1.1274, Validation Loss: 1.0509\n",
            "Epoch 2: Training Loss: 1.0228, Validation Loss: 0.9907\n",
            "Epoch 3: Training Loss: 0.9654, Validation Loss: 0.9431\n",
            "Epoch 4: Training Loss: 0.9226, Validation Loss: 0.9295\n",
            "Epoch 5: Training Loss: 0.8941, Validation Loss: 0.9202\n",
            "Epoch 6: Training Loss: 0.8716, Validation Loss: 0.8781\n",
            "Epoch 7: Training Loss: 0.8545, Validation Loss: 0.8683\n",
            "Epoch 8: Training Loss: 0.8374, Validation Loss: 0.8349\n",
            "Epoch 9: Training Loss: 0.8316, Validation Loss: 0.8373\n",
            "Epoch 10: Training Loss: 0.8153, Validation Loss: 0.8261\n",
            "Epoch 11: Training Loss: 0.8096, Validation Loss: 0.8259\n",
            "Epoch 12: Training Loss: 0.8103, Validation Loss: 0.8349\n",
            "Epoch 13: Training Loss: 0.7959, Validation Loss: 0.8134\n",
            "Epoch 14: Training Loss: 0.7867, Validation Loss: 0.8287\n",
            "Epoch 15: Training Loss: 0.7838, Validation Loss: 0.8289\n",
            "Epoch 16: Training Loss: 0.7826, Validation Loss: 0.8127\n",
            "Epoch 17: Training Loss: 0.7823, Validation Loss: 0.8026\n",
            "Epoch 18: Training Loss: 0.7747, Validation Loss: 0.8170\n",
            "Epoch 19: Training Loss: 0.7689, Validation Loss: 0.7920\n",
            "Epoch 20: Training Loss: 0.7665, Validation Loss: 0.7926\n",
            "Epoch 21: Training Loss: 0.7647, Validation Loss: 0.7959\n",
            "Epoch 22: Training Loss: 0.7552, Validation Loss: 0.8271\n",
            "Epoch 23: Training Loss: 0.7552, Validation Loss: 0.8217\n",
            "Epoch 24: Training Loss: 0.7582, Validation Loss: 0.7932\n",
            "Epoch 25: Training Loss: 0.7513, Validation Loss: 0.8091\n",
            "Epoch 26: Training Loss: 0.7525, Validation Loss: 0.7825\n",
            "Epoch 27: Training Loss: 0.7490, Validation Loss: 0.7818\n",
            "Epoch 28: Training Loss: 0.7495, Validation Loss: 0.7889\n",
            "Epoch 29: Training Loss: 0.7461, Validation Loss: 0.8174\n",
            "\n",
            "Training Time: 0:31:10.888123\n"
          ],
          "name": "stdout"
        },
        {
          "output_type": "display_data",
          "data": {
            "image/png": "[encoded data removed]",
            "text/plain": [
              "<Figure size 432x288 with 1 Axes>"
            ]
          },
          "metadata": {
            "tags": [],
            "needs_background": "light"
          }
        },
        {
          "output_type": "stream",
          "text": [
            "Name: Nazario          Label: Italian              Prediction: Italian          -- CORRECT\n",
            "Name: Sakai            Label: Japanese             Prediction: Arabic           -- INCORRECT\n",
            "Name: Makuda           Label: Japanese             Prediction: Japanese         -- CORRECT\n",
            "Name: Veselago         Label: Russian              Prediction: Russian          -- CORRECT\n",
            "Name: Ryjkin           Label: Russian              Prediction: Russian          -- CORRECT\n",
            "Name: Gastello         Label: Russian              Prediction: Spanish          -- INCORRECT\n",
            "Name: Leck             Label: English              Prediction: English          -- CORRECT\n",
            "Name: Vasin            Label: Russian              Prediction: Russian          -- CORRECT\n",
            "Name: Matsuoka         Label: Japanese             Prediction: Japanese         -- CORRECT\n",
            "Name: Andreiko         Label: Russian              Prediction: Russian          -- CORRECT\n",
            "Name: Hapsirokov       Label: Russian              Prediction: Russian          -- CORRECT\n",
            "Name: To The First Page Label: Russian              Prediction: Russian          -- CORRECT\n",
            "Name: Gagne            Label: French               Prediction: English          -- INCORRECT\n",
            "Name: Robustov         Label: Russian              Prediction: Russian          -- CORRECT\n",
            "Name: Gluhih           Label: Russian              Prediction: Russian          -- CORRECT\n",
            "Name: Eccleston        Label: English              Prediction: English          -- CORRECT\n",
            "Name: Belohin          Label: Russian              Prediction: Russian          -- CORRECT\n",
            "Name: Havanov          Label: Russian              Prediction: Russian          -- CORRECT\n",
            "Name: Mahalin          Label: Russian              Prediction: Russian          -- CORRECT\n",
            "Name: Muzarev          Label: Russian              Prediction: Russian          -- CORRECT\n"
          ],
          "name": "stdout"
        }
      ]
    },
    {
      "cell_type": "code",
      "metadata": {
        "colab": {
          "base_uri": "https://localhost:8080/",
          "height": 1000
        },
        "id": "Q38YnRCCnocW",
        "outputId": "e947d0d0-31b7-44fe-f026-b37e6b5dc5e9"
      },
      "source": [
        "model = RNN(len(vocab), len(data)).to(device)\n",
        "print(model)\n",
        "train(model)\n",
        "test(model)"
      ],
      "execution_count": 20,
      "outputs": [
        {
          "output_type": "stream",
          "text": [
            "RNN(\n",
            "  (rnn): RNN(87, 128, batch_first=True)\n",
            "  (fc): Linear(in_features=128, out_features=18, bias=True)\n",
            "  (softmax): LogSoftmax(dim=1)\n",
            ")\n",
            "2021-07-31 11:16:03.701888\n",
            "\n",
            "Epoch 0: Training Loss: 1.4277, Validation Loss: 1.2040\n",
            "Epoch 1: Training Loss: 1.1403, Validation Loss: 1.1134\n",
            "Epoch 2: Training Loss: 1.0680, Validation Loss: 1.0683\n",
            "Epoch 3: Training Loss: 1.0217, Validation Loss: 1.0079\n",
            "Epoch 4: Training Loss: 0.9801, Validation Loss: 0.9643\n",
            "Epoch 5: Training Loss: 0.9458, Validation Loss: 0.9317\n",
            "Epoch 6: Training Loss: 0.9110, Validation Loss: 0.8940\n",
            "Epoch 7: Training Loss: 0.8824, Validation Loss: 0.9022\n",
            "Epoch 8: Training Loss: 0.8550, Validation Loss: 0.8822\n",
            "Epoch 9: Training Loss: 0.8324, Validation Loss: 0.8738\n",
            "Epoch 10: Training Loss: 0.8105, Validation Loss: 0.8751\n",
            "Epoch 11: Training Loss: 0.7886, Validation Loss: 0.8168\n",
            "Epoch 12: Training Loss: 0.7734, Validation Loss: 0.8302\n",
            "Epoch 13: Training Loss: 0.7566, Validation Loss: 0.8114\n",
            "Epoch 14: Training Loss: 0.7457, Validation Loss: 0.7868\n",
            "Epoch 15: Training Loss: 0.7348, Validation Loss: 0.7748\n",
            "Epoch 16: Training Loss: 0.7184, Validation Loss: 0.8149\n",
            "Epoch 17: Training Loss: 0.7090, Validation Loss: 0.7864\n",
            "Epoch 18: Training Loss: 0.7040, Validation Loss: 0.8233\n",
            "Epoch 19: Training Loss: 0.6909, Validation Loss: 0.7771\n",
            "Epoch 20: Training Loss: 0.6892, Validation Loss: 0.7804\n",
            "Epoch 21: Training Loss: 0.6814, Validation Loss: 0.7470\n",
            "Epoch 22: Training Loss: 0.6657, Validation Loss: 0.7576\n",
            "Epoch 23: Training Loss: 0.6605, Validation Loss: 0.7513\n",
            "Epoch 24: Training Loss: 0.6513, Validation Loss: 0.7644\n",
            "Epoch 25: Training Loss: 0.6527, Validation Loss: 0.7581\n",
            "Epoch 26: Training Loss: 0.6454, Validation Loss: 0.7498\n",
            "Epoch 27: Training Loss: 0.6414, Validation Loss: 0.7840\n",
            "Epoch 28: Training Loss: 0.6398, Validation Loss: 0.7917\n",
            "Epoch 29: Training Loss: 0.6307, Validation Loss: 0.7700\n",
            "\n",
            "Training Time: 0:52:30.944722\n"
          ],
          "name": "stdout"
        },
        {
          "output_type": "display_data",
          "data": {
            "image/png": "[encoded data removed]",
            "text/plain": [
              "<Figure size 432x288 with 1 Axes>"
            ]
          },
          "metadata": {
            "tags": [],
            "needs_background": "light"
          }
        },
        {
          "output_type": "stream",
          "text": [
            "Name: Rahamimov        Label: Russian              Prediction: Russian          -- CORRECT\n",
            "Name: Tulkin           Label: Russian              Prediction: Russian          -- CORRECT\n",
            "Name: Ashbridge        Label: English              Prediction: English          -- CORRECT\n",
            "Name: Roscoe           Label: English              Prediction: English          -- CORRECT\n",
            "Name: Gatovsky         Label: Russian              Prediction: Russian          -- CORRECT\n",
            "Name: Chamov           Label: Russian              Prediction: Russian          -- CORRECT\n",
            "Name: Jemchujnikov     Label: Russian              Prediction: Russian          -- CORRECT\n",
            "Name: Daher            Label: Arabic               Prediction: Arabic           -- CORRECT\n",
            "Name: Janson           Label: German               Prediction: English          -- INCORRECT\n",
            "Name: Williams         Label: English              Prediction: English          -- CORRECT\n",
            "Name: Tchekvin         Label: Russian              Prediction: Russian          -- CORRECT\n",
            "Name: Sansone          Label: Italian              Prediction: Japanese         -- INCORRECT\n",
            "Name: Vinci            Label: Italian              Prediction: Italian          -- CORRECT\n",
            "Name: Blackman         Label: English              Prediction: English          -- CORRECT\n",
            "Name: Rovinsky         Label: Russian              Prediction: Russian          -- CORRECT\n",
            "Name: Goloborodko      Label: Russian              Prediction: Russian          -- CORRECT\n",
            "Name: Peacock          Label: English              Prediction: English          -- CORRECT\n",
            "Name: Viola            Label: Spanish              Prediction: Italian          -- INCORRECT\n",
            "Name: Yusuf            Label: English              Prediction: Russian          -- INCORRECT\n",
            "Name: Nader            Label: Arabic               Prediction: Arabic           -- CORRECT\n"
          ],
          "name": "stdout"
        }
      ]
    },
    {
      "cell_type": "code",
      "metadata": {
        "colab": {
          "base_uri": "https://localhost:8080/",
          "height": 1000
        },
        "id": "GtBg88mJynSa",
        "outputId": "c70c17bb-f129-4211-919b-d3e43edcff4b"
      },
      "source": [
        "model = GRU(len(vocab), len(data)).to(device)\n",
        "print(model)\n",
        "train(model)\n",
        "test(model)"
      ],
      "execution_count": 27,
      "outputs": [
        {
          "output_type": "stream",
          "text": [
            "GRU(\n",
            "  (rnn): GRU(87, 128, batch_first=True)\n",
            "  (fc): Linear(in_features=128, out_features=18, bias=True)\n",
            "  (softmax): LogSoftmax(dim=1)\n",
            ")\n",
            "2021-07-31 13:51:43.185544\n",
            "\n",
            "Epoch 0: Training Loss: 1.5993, Validation Loss: 1.4086\n",
            "Epoch 1: Training Loss: 1.3189, Validation Loss: 1.2431\n",
            "Epoch 2: Training Loss: 1.1847, Validation Loss: 1.1317\n",
            "Epoch 3: Training Loss: 1.0976, Validation Loss: 1.0669\n",
            "Epoch 4: Training Loss: 1.0406, Validation Loss: 1.0255\n",
            "Epoch 5: Training Loss: 0.9969, Validation Loss: 1.0013\n",
            "Epoch 6: Training Loss: 0.9653, Validation Loss: 0.9728\n",
            "Epoch 7: Training Loss: 0.9349, Validation Loss: 0.9420\n",
            "Epoch 8: Training Loss: 0.9043, Validation Loss: 0.9054\n",
            "Epoch 9: Training Loss: 0.8747, Validation Loss: 0.8792\n",
            "Epoch 10: Training Loss: 0.8491, Validation Loss: 0.8677\n",
            "Epoch 11: Training Loss: 0.8248, Validation Loss: 0.8427\n",
            "Epoch 12: Training Loss: 0.8005, Validation Loss: 0.8198\n",
            "Epoch 13: Training Loss: 0.7745, Validation Loss: 0.8053\n",
            "Epoch 14: Training Loss: 0.7508, Validation Loss: 0.7900\n",
            "Epoch 15: Training Loss: 0.7312, Validation Loss: 0.7722\n",
            "Epoch 16: Training Loss: 0.7085, Validation Loss: 0.7495\n",
            "Epoch 17: Training Loss: 0.6875, Validation Loss: 0.7345\n",
            "Epoch 18: Training Loss: 0.6734, Validation Loss: 0.7502\n",
            "Epoch 19: Training Loss: 0.6499, Validation Loss: 0.7118\n",
            "Epoch 20: Training Loss: 0.6375, Validation Loss: 0.6984\n",
            "Epoch 21: Training Loss: 0.6185, Validation Loss: 0.7110\n",
            "Epoch 22: Training Loss: 0.6082, Validation Loss: 0.7159\n",
            "Epoch 23: Training Loss: 0.5915, Validation Loss: 0.6837\n",
            "Epoch 24: Training Loss: 0.5783, Validation Loss: 0.6794\n",
            "Epoch 25: Training Loss: 0.5627, Validation Loss: 0.6849\n",
            "Epoch 26: Training Loss: 0.5490, Validation Loss: 0.6835\n",
            "Epoch 27: Training Loss: 0.5354, Validation Loss: 0.6898\n",
            "Epoch 28: Training Loss: 0.5241, Validation Loss: 0.6767\n",
            "Epoch 29: Training Loss: 0.5095, Validation Loss: 0.6738\n",
            "\n",
            "Training Time: 0:52:14.413147\n"
          ],
          "name": "stdout"
        },
        {
          "output_type": "display_data",
          "data": {
            "image/png": "[encoded data removed]",
            "text/plain": [
              "<Figure size 432x288 with 1 Axes>"
            ]
          },
          "metadata": {
            "tags": [],
            "needs_background": "light"
          }
        },
        {
          "output_type": "stream",
          "text": [
            "Name: Kearton          Label: English              Prediction: English          -- CORRECT\n",
            "Name: Ochiai           Label: Japanese             Prediction: Japanese         -- CORRECT\n",
            "Name: Asfour           Label: Arabic               Prediction: Arabic           -- CORRECT\n",
            "Name: Ribeiro          Label: Portuguese           Prediction: Italian          -- INCORRECT\n",
            "Name: Flannery         Label: English              Prediction: English          -- CORRECT\n",
            "Name: Schoettmer       Label: German               Prediction: German           -- CORRECT\n",
            "Name: Ajibana          Label: Japanese             Prediction: Japanese         -- CORRECT\n",
            "Name: Hatch            Label: English              Prediction: English          -- CORRECT\n",
            "Name: Zhelaev          Label: Russian              Prediction: Russian          -- CORRECT\n",
            "Name: Guttridge        Label: English              Prediction: English          -- CORRECT\n",
            "Name: Hagiwara         Label: Japanese             Prediction: Japanese         -- CORRECT\n",
            "Name: Holmov           Label: Russian              Prediction: Russian          -- CORRECT\n",
            "Name: Newton           Label: English              Prediction: English          -- CORRECT\n",
            "Name: Allport          Label: English              Prediction: English          -- CORRECT\n",
            "Name: Tenshin          Label: Japanese             Prediction: Russian          -- INCORRECT\n",
            "Name: Adelson          Label: Russian              Prediction: Russian          -- CORRECT\n",
            "Name: Walther          Label: German               Prediction: English          -- INCORRECT\n",
            "Name: Dzhincharadze    Label: Russian              Prediction: Russian          -- CORRECT\n",
            "Name: Laguardia        Label: Italian              Prediction: Italian          -- CORRECT\n",
            "Name: Dick             Label: English              Prediction: English          -- CORRECT\n"
          ],
          "name": "stdout"
        }
      ]
    },
    {
      "cell_type": "code",
      "metadata": {
        "colab": {
          "base_uri": "https://localhost:8080/",
          "height": 1000
        },
        "id": "qYjIatzonupR",
        "outputId": "930c1c19-bf9d-44bc-b35f-a50b26962340"
      },
      "source": [
        "model = LSTM(len(vocab), len(data)).to(device)\n",
        "print(model)\n",
        "train(model)\n",
        "test(model)"
      ],
      "execution_count": 26,
      "outputs": [
        {
          "output_type": "stream",
          "text": [
            "LSTM(\n",
            "  (rnn): LSTM(87, 128, batch_first=True)\n",
            "  (fc): Linear(in_features=128, out_features=18, bias=True)\n",
            "  (softmax): LogSoftmax(dim=1)\n",
            ")\n",
            "2021-07-31 12:49:23.416452\n",
            "\n",
            "Epoch 0: Training Loss: 1.7350, Validation Loss: 1.5581\n",
            "Epoch 1: Training Loss: 1.4448, Validation Loss: 1.3904\n",
            "Epoch 2: Training Loss: 1.2971, Validation Loss: 1.2318\n",
            "Epoch 3: Training Loss: 1.1800, Validation Loss: 1.1352\n",
            "Epoch 4: Training Loss: 1.1057, Validation Loss: 1.0588\n",
            "Epoch 5: Training Loss: 1.0538, Validation Loss: 1.0394\n",
            "Epoch 6: Training Loss: 1.0094, Validation Loss: 1.0037\n",
            "Epoch 7: Training Loss: 0.9749, Validation Loss: 0.9735\n",
            "Epoch 8: Training Loss: 0.9424, Validation Loss: 0.9504\n",
            "Epoch 9: Training Loss: 0.9143, Validation Loss: 0.9367\n",
            "Epoch 10: Training Loss: 0.8920, Validation Loss: 0.9005\n",
            "Epoch 11: Training Loss: 0.8649, Validation Loss: 0.8887\n",
            "Epoch 12: Training Loss: 0.8414, Validation Loss: 0.8428\n",
            "Epoch 13: Training Loss: 0.8199, Validation Loss: 0.8293\n",
            "Epoch 14: Training Loss: 0.8015, Validation Loss: 0.8087\n",
            "Epoch 15: Training Loss: 0.7810, Validation Loss: 0.7985\n",
            "Epoch 16: Training Loss: 0.7598, Validation Loss: 0.8225\n",
            "Epoch 17: Training Loss: 0.7448, Validation Loss: 0.7931\n",
            "Epoch 18: Training Loss: 0.7281, Validation Loss: 0.7740\n",
            "Epoch 19: Training Loss: 0.7135, Validation Loss: 0.7576\n",
            "Epoch 20: Training Loss: 0.6958, Validation Loss: 0.8096\n",
            "Epoch 21: Training Loss: 0.6844, Validation Loss: 0.7309\n",
            "Epoch 22: Training Loss: 0.6716, Validation Loss: 0.7314\n",
            "Epoch 23: Training Loss: 0.6587, Validation Loss: 0.7418\n",
            "Epoch 24: Training Loss: 0.6462, Validation Loss: 0.7272\n",
            "Epoch 25: Training Loss: 0.6317, Validation Loss: 0.7068\n",
            "Epoch 26: Training Loss: 0.6241, Validation Loss: 0.7140\n",
            "Epoch 27: Training Loss: 0.6070, Validation Loss: 0.7058\n",
            "Epoch 28: Training Loss: 0.5975, Validation Loss: 0.7126\n",
            "Epoch 29: Training Loss: 0.5900, Validation Loss: 0.7029\n",
            "\n",
            "Training Time: 0:54:33.810385\n"
          ],
          "name": "stdout"
        },
        {
          "output_type": "display_data",
          "data": {
            "image/png": "[encoded data removed]",
            "text/plain": [
              "<Figure size 432x288 with 1 Axes>"
            ]
          },
          "metadata": {
            "tags": [],
            "needs_background": "light"
          }
        },
        {
          "output_type": "stream",
          "text": [
            "Name: Schlusser        Label: German               Prediction: German           -- CORRECT\n",
            "Name: Balakirev        Label: Russian              Prediction: Russian          -- CORRECT\n",
            "Name: Ozawa            Label: Japanese             Prediction: Japanese         -- CORRECT\n",
            "Name: Chuhonkin        Label: Russian              Prediction: Russian          -- CORRECT\n",
            "Name: Xing             Label: Chinese              Prediction: English          -- INCORRECT\n",
            "Name: Quraishi         Label: Arabic               Prediction: Arabic           -- CORRECT\n",
            "Name: Oshin            Label: Japanese             Prediction: Russian          -- INCORRECT\n",
            "Name: Fan              Label: Chinese              Prediction: Chinese          -- CORRECT\n",
            "Name: Sakun            Label: Russian              Prediction: Russian          -- CORRECT\n",
            "Name: Bazzi            Label: Arabic               Prediction: Arabic           -- CORRECT\n",
            "Name: Healy            Label: English              Prediction: English          -- CORRECT\n",
            "Name: Olenew           Label: Russian              Prediction: English          -- INCORRECT\n",
            "Name: Larkin           Label: English              Prediction: Russian          -- INCORRECT\n",
            "Name: Gunston          Label: English              Prediction: English          -- CORRECT\n",
            "Name: Zhirdetsky       Label: Russian              Prediction: Russian          -- CORRECT\n",
            "Name: Quinlivan        Label: English              Prediction: English          -- CORRECT\n",
            "Name: Jemchujnikov     Label: Russian              Prediction: Russian          -- CORRECT\n",
            "Name: D'aramitz        Label: French               Prediction: Russian          -- INCORRECT\n",
            "Name: Gesse            Label: Russian              Prediction: English          -- INCORRECT\n",
            "Name: Wicks            Label: English              Prediction: English          -- CORRECT\n"
          ],
          "name": "stdout"
        }
      ]
    }
  ]
}