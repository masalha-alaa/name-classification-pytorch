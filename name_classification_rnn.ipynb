{
  "nbformat": 4,
  "nbformat_minor": 0,
  "metadata": {
    "colab": {
      "name": "name-classification-rnn.ipynb",
      "provenance": [],
      "collapsed_sections": [],
      "authorship_tag": "ABX9TyPHSst6+l1E8Ea5mtAJhdZm",
      "include_colab_link": true
    },
    "kernelspec": {
      "name": "python3",
      "display_name": "Python 3"
    },
    "language_info": {
      "name": "python"
    },
    "accelerator": "GPU"
  },
  "cells": [
    {
      "cell_type": "markdown",
      "metadata": {
        "id": "view-in-github",
        "colab_type": "text"
      },
      "source": [
        "<a href=\"https://colab.research.google.com/github/masalha-alaa/name-classification-pytorch/blob/master/name_classification_rnn.ipynb\" target=\"_parent\"><img src=\"https://colab.research.google.com/assets/colab-badge.svg\" alt=\"Open In Colab\"/></a>"
      ]
    },
    {
      "cell_type": "code",
      "metadata": {
        "id": "_ePkyy-Oc8JX",
        "colab": {
          "base_uri": "https://localhost:8080/"
        },
        "outputId": "d0139c15-3ca9-4387-c850-789d7ad3685e"
      },
      "source": [
        "import os\n",
        "from google.colab import drive\n",
        "!pip install unidecode\n",
        "import unidecode\n",
        "\n",
        "import torch\n",
        "import torch.nn as nn\n",
        "from torch.optim.lr_scheduler import ReduceLROnPlateau, MultiStepLR\n",
        "import torch.nn.functional as F\n",
        "from torch.utils.data import Dataset, DataLoader, ConcatDataset\n",
        "import torch.utils.data as data_utils\n",
        "\n",
        "import numpy as np\n",
        "import pandas as pd\n",
        "from scipy.sparse import csr_matrix\n",
        "\n",
        "from pathlib import Path\n",
        "import zipfile\n",
        "from pickle import load\n",
        "\n",
        "from sklearn.feature_extraction.text import CountVectorizer, TfidfVectorizer\n",
        "from sklearn.preprocessing import LabelEncoder\n",
        "from sklearn.metrics import confusion_matrix\n",
        "from sklearn import utils\n",
        "\n",
        "from bisect import bisect_left\n",
        "\n",
        "import random\n",
        "from tqdm.notebook import tqdm\n",
        "import matplotlib.pyplot as plt\n",
        "import itertools\n",
        "import copy\n",
        "from math import ceil\n",
        "from datetime import datetime\n",
        "\n",
        "SEED = 42"
      ],
      "execution_count": 61,
      "outputs": [
        {
          "output_type": "stream",
          "text": [
            "Requirement already satisfied: unidecode in /usr/local/lib/python3.7/dist-packages (1.2.0)\n"
          ],
          "name": "stdout"
        }
      ]
    },
    {
      "cell_type": "code",
      "metadata": {
        "id": "aqSmIBfbdFnr",
        "colab": {
          "base_uri": "https://localhost:8080/"
        },
        "outputId": "dcd9c472-529e-459e-b9d1-bc6dc675f36f"
      },
      "source": [
        "drive.mount('/content/gdrive')"
      ],
      "execution_count": 62,
      "outputs": [
        {
          "output_type": "stream",
          "text": [
            "Drive already mounted at /content/gdrive; to attempt to forcibly remount, call drive.mount(\"/content/gdrive\", force_remount=True).\n"
          ],
          "name": "stdout"
        }
      ]
    },
    {
      "cell_type": "code",
      "metadata": {
        "id": "nyxolX3BdIb6",
        "colab": {
          "base_uri": "https://localhost:8080/"
        },
        "outputId": "2cab22d0-49b9-4049-b53a-e44a4bfbd7a5"
      },
      "source": [
        "# Use GPU if available\n",
        "\n",
        "device = 'cuda' if torch.cuda.is_available() else 'cpu'\n",
        "print(f'Running on {device}')"
      ],
      "execution_count": 63,
      "outputs": [
        {
          "output_type": "stream",
          "text": [
            "Running on cuda\n"
          ],
          "name": "stdout"
        }
      ]
    },
    {
      "cell_type": "code",
      "metadata": {
        "id": "XUg6FapjdJes",
        "colab": {
          "base_uri": "https://localhost:8080/"
        },
        "outputId": "e654666e-2d36-42c6-f8dc-52ec8e47a3e6"
      },
      "source": [
        "# Extract data\n",
        "\n",
        "DATA_DIR = Path(\"/content/gdrive/MyDrive/name-classification/\")\n",
        "\n",
        "if not os.path.exists(DATA_DIR / 'data'):\n",
        "    print('Extracting data...')\n",
        "    with zipfile.ZipFile(DATA_DIR / 'data.zip', 'r') as z:\n",
        "        z.extractall(DATA_DIR)\n",
        "    print('Done')\n",
        "\n",
        "data = {}\n",
        "for f in os.listdir(DATA_DIR / 'data'):\n",
        "    data[f.replace('.txt', '')] = [unidecode.unidecode(name.strip().lower()) for name in open(DATA_DIR / 'data' / f).readlines()]\n",
        "\n",
        "print(f\"{len(data)} files: {data.keys()}\")"
      ],
      "execution_count": 64,
      "outputs": [
        {
          "output_type": "stream",
          "text": [
            "18 files: dict_keys(['Arabic', 'Chinese', 'Czech', 'Dutch', 'English', 'French', 'German', 'Greek', 'Irish', 'Italian', 'Japanese', 'Korean', 'Polish', 'Portuguese', 'Russian', 'Scottish', 'Spanish', 'Vietnamese'])\n"
          ],
          "name": "stdout"
        }
      ]
    },
    {
      "cell_type": "code",
      "metadata": {
        "id": "jIaR_8tgfM6B",
        "colab": {
          "base_uri": "https://localhost:8080/"
        },
        "outputId": "cf0f969f-b371-4db0-8016-41eaebcf0015"
      },
      "source": [
        "# Take a look at some data\n",
        "\n",
        "show_langs, show_names = 4, 5\n",
        "for i,(k,v) in enumerate(data.items()):\n",
        "    print(f'{k}: {[name for name in v[:show_names]]}')\n",
        "    if i == show_langs:\n",
        "        break"
      ],
      "execution_count": 65,
      "outputs": [
        {
          "output_type": "stream",
          "text": [
            "Arabic: ['khoury', 'nahas', 'daher', 'gerges', 'nazari']\n",
            "Chinese: ['ang', 'au-yong', 'bai', 'ban', 'bao']\n",
            "Czech: ['abl', 'adsit', 'ajdrna', 'alt', 'antonowitsch']\n",
            "Dutch: ['aalsburg', 'aalst', 'aarle', 'achteren', 'achthoven']\n",
            "English: ['abbas', 'abbey', 'abbott', 'abdi', 'abel']\n"
          ],
          "name": "stdout"
        }
      ]
    },
    {
      "cell_type": "code",
      "metadata": {
        "colab": {
          "base_uri": "https://localhost:8080/",
          "height": 699
        },
        "id": "vBNIb-H8MPSQ",
        "outputId": "5d8531b4-a61f-493f-f978-c5fcba235736"
      },
      "source": [
        "# Convert to dataframe for ease of use\n",
        "DATA, LABEL = 'data', 'label'\n",
        "df = pd.DataFrame(data=[[name, lang] for lang in data.keys() for name in data[lang]], columns=[DATA, LABEL]);\n",
        "df_grouped = df.groupby(LABEL)\n",
        "print(df_grouped.count())  # => it's massively biased!!!\n",
        "df.sample(10)"
      ],
      "execution_count": 66,
      "outputs": [
        {
          "output_type": "stream",
          "text": [
            "            data\n",
            "label           \n",
            "Arabic      2000\n",
            "Chinese      268\n",
            "Czech        519\n",
            "Dutch        297\n",
            "English     3668\n",
            "French       277\n",
            "German       724\n",
            "Greek        203\n",
            "Irish        232\n",
            "Italian      709\n",
            "Japanese     991\n",
            "Korean        94\n",
            "Polish       139\n",
            "Portuguese    74\n",
            "Russian     9408\n",
            "Scottish     100\n",
            "Spanish      298\n",
            "Vietnamese    73\n"
          ],
          "name": "stdout"
        },
        {
          "output_type": "execute_result",
          "data": {
            "text/html": [
              "<div>\n",
              "<style scoped>\n",
              "    .dataframe tbody tr th:only-of-type {\n",
              "        vertical-align: middle;\n",
              "    }\n",
              "\n",
              "    .dataframe tbody tr th {\n",
              "        vertical-align: top;\n",
              "    }\n",
              "\n",
              "    .dataframe thead th {\n",
              "        text-align: right;\n",
              "    }\n",
              "</style>\n",
              "<table border=\"1\" class=\"dataframe\">\n",
              "  <thead>\n",
              "    <tr style=\"text-align: right;\">\n",
              "      <th></th>\n",
              "      <th>data</th>\n",
              "      <th>label</th>\n",
              "    </tr>\n",
              "  </thead>\n",
              "  <tbody>\n",
              "    <tr>\n",
              "      <th>2681</th>\n",
              "      <td>skala</td>\n",
              "      <td>Czech</td>\n",
              "    </tr>\n",
              "    <tr>\n",
              "      <th>12339</th>\n",
              "      <td>dardyk</td>\n",
              "      <td>Russian</td>\n",
              "    </tr>\n",
              "    <tr>\n",
              "      <th>1460</th>\n",
              "      <td>awad</td>\n",
              "      <td>Arabic</td>\n",
              "    </tr>\n",
              "    <tr>\n",
              "      <th>8358</th>\n",
              "      <td>battaglia</td>\n",
              "      <td>Italian</td>\n",
              "    </tr>\n",
              "    <tr>\n",
              "      <th>2838</th>\n",
              "      <td>hout</td>\n",
              "      <td>Dutch</td>\n",
              "    </tr>\n",
              "    <tr>\n",
              "      <th>1781</th>\n",
              "      <td>safar</td>\n",
              "      <td>Arabic</td>\n",
              "    </tr>\n",
              "    <tr>\n",
              "      <th>1045</th>\n",
              "      <td>naifeh</td>\n",
              "      <td>Arabic</td>\n",
              "    </tr>\n",
              "    <tr>\n",
              "      <th>14769</th>\n",
              "      <td>juhnin</td>\n",
              "      <td>Russian</td>\n",
              "    </tr>\n",
              "    <tr>\n",
              "      <th>12415</th>\n",
              "      <td>demirchyan</td>\n",
              "      <td>Russian</td>\n",
              "    </tr>\n",
              "    <tr>\n",
              "      <th>1691</th>\n",
              "      <td>gerges</td>\n",
              "      <td>Arabic</td>\n",
              "    </tr>\n",
              "  </tbody>\n",
              "</table>\n",
              "</div>"
            ],
            "text/plain": [
              "             data    label\n",
              "2681        skala    Czech\n",
              "12339      dardyk  Russian\n",
              "1460         awad   Arabic\n",
              "8358    battaglia  Italian\n",
              "2838         hout    Dutch\n",
              "1781        safar   Arabic\n",
              "1045       naifeh   Arabic\n",
              "14769      juhnin  Russian\n",
              "12415  demirchyan  Russian\n",
              "1691       gerges   Arabic"
            ]
          },
          "metadata": {
            "tags": []
          },
          "execution_count": 66
        }
      ]
    },
    {
      "cell_type": "code",
      "metadata": {
        "colab": {
          "base_uri": "https://localhost:8080/"
        },
        "id": "96E3BjYFV4IK",
        "outputId": "17fa7189-8aab-44ad-d2ba-80f870af37b1"
      },
      "source": [
        "\n",
        "df_train = df_grouped.sample(frac=0.8, random_state=SEED)\n",
        "df_train_idx_set = set(df_train.index)\n",
        "df_test = df.loc[[idx for idx in df.index if idx not in df_train_idx_set], :]\n",
        "print(f\"[Train]:\\n{df_train.groupby(LABEL).count()}\\n({df_train.shape[0]} entries)\\n\\nSamples:\\n{df_train.sample(5, random_state=SEED)}\")\n",
        "print('')\n",
        "print(f\"[Test]:\\n{df_test.groupby(LABEL).count()}\\n({df_test.shape[0]} entries)\\n\\nSamples:\\n{df_test.sample(5, random_state=SEED)}\")\n",
        "\n",
        "df_train.reset_index(drop=True, inplace=True)\n",
        "df_test.reset_index(drop=True, inplace=True)"
      ],
      "execution_count": 67,
      "outputs": [
        {
          "output_type": "stream",
          "text": [
            "[Train]:\n",
            "            data\n",
            "label           \n",
            "Arabic      1600\n",
            "Chinese      214\n",
            "Czech        415\n",
            "Dutch        238\n",
            "English     2934\n",
            "French       222\n",
            "German       579\n",
            "Greek        162\n",
            "Irish        186\n",
            "Italian      567\n",
            "Japanese     793\n",
            "Korean        75\n",
            "Polish       111\n",
            "Portuguese    59\n",
            "Russian     7526\n",
            "Scottish      80\n",
            "Spanish      238\n",
            "Vietnamese    58\n",
            "(16057 entries)\n",
            "\n",
            "Samples:\n",
            "          data    label\n",
            "1775   shamoun   Arabic\n",
            "2006      bian  Chinese\n",
            "19994   zabala  Spanish\n",
            "6373    towers  English\n",
            "234      antar   Arabic\n",
            "\n",
            "[Test]:\n",
            "            data\n",
            "label           \n",
            "Arabic       400\n",
            "Chinese       54\n",
            "Czech        104\n",
            "Dutch         59\n",
            "English      734\n",
            "French        55\n",
            "German       145\n",
            "Greek         41\n",
            "Irish         46\n",
            "Italian      142\n",
            "Japanese     198\n",
            "Korean        19\n",
            "Polish        28\n",
            "Portuguese    15\n",
            "Russian     1882\n",
            "Scottish      20\n",
            "Spanish       60\n",
            "Vietnamese    15\n",
            "(4017 entries)\n",
            "\n",
            "Samples:\n",
            "            data    label\n",
            "5295     mcelroy  English\n",
            "5950      rivers  English\n",
            "13532       grot  Russian\n",
            "6429      tuttle  English\n",
            "18400  vanchagov  Russian\n"
          ],
          "name": "stdout"
        }
      ]
    },
    {
      "cell_type": "code",
      "metadata": {
        "id": "J4y8JbOkJSVy"
      },
      "source": [
        "# encode labels\n",
        "\n",
        "le = LabelEncoder()\n",
        "encoded_lbls = le.fit_transform(list(data))  # list(data) makes a list of the dictionary's KEYS! (i.e. the countries)\n",
        "\n",
        "def lbl_to_id(lbl):\n",
        "    if torch.is_tensor(lbl):\n",
        "        lbl = lbl.cpu().numpy()\n",
        "    if isinstance(lbl, np.ndarray):\n",
        "        return le.transform(lbl)[0]\n",
        "    return le.transform([lbl])[0]\n",
        "\n",
        "def id_to_lbl(lbl_id):\n",
        "    if torch.is_tensor(lbl_id):\n",
        "        lbl_id = lbl_id.cpu().numpy()\n",
        "    if isinstance(lbl_id, np.ndarray):\n",
        "        return le.inverse_transform(lbl_id)[0]\n",
        "    return le.inverse_transform([lbl_id])[0]"
      ],
      "execution_count": 68,
      "outputs": []
    },
    {
      "cell_type": "code",
      "metadata": {
        "id": "q5-UPHN4gbQu",
        "colab": {
          "base_uri": "https://localhost:8080/"
        },
        "outputId": "92107d67-6e95-404c-dc36-e3bd0dc36943"
      },
      "source": [
        "# The unique characters in the files\n",
        "vocab = sorted(set(' '.join(sum(data.values(), []))))\n",
        "vocab_d = {k:v for v,k in enumerate(vocab)}\n",
        "vocab_inv = {v:k for v,k in enumerate(vocab)}\n",
        "print(f'{len(vocab)} unique characters')\n",
        "print(vocab[:20])"
      ],
      "execution_count": 69,
      "outputs": [
        {
          "output_type": "stream",
          "text": [
            "33 unique characters\n",
            "[' ', \"'\", ',', '-', '/', '1', ':', 'a', 'b', 'c', 'd', 'e', 'f', 'g', 'h', 'i', 'j', 'k', 'l', 'm']\n"
          ],
          "name": "stdout"
        }
      ]
    },
    {
      "cell_type": "markdown",
      "metadata": {
        "id": "YBAsXShhhJAT"
      },
      "source": [
        "## Text Vectorization"
      ]
    },
    {
      "cell_type": "code",
      "metadata": {
        "id": "vEMJOqEghGn-"
      },
      "source": [
        "# letters one hot encoding\n",
        "def ltr_one_hot(ltr, num_cats):\n",
        "    # num_cats: number of categories for the one hot encoding (usually len(vocab))\n",
        "    def char_to_id(ch):\n",
        "        return vocab_d[ch]\n",
        "    return torch.nn.functional.one_hot(torch.LongTensor([char_to_id(ltr)]), num_cats)\n",
        "\n",
        "# line one hot\n",
        "def line_to_one_hot_tensor(line, num_cats):\n",
        "    # num_cats: number of categories for the one hot encoding (usually len(vocab))\n",
        "    line_one_hot = None\n",
        "    for i, ltr in enumerate(line):\n",
        "        if line_one_hot is None:\n",
        "            line_one_hot = ltr_one_hot(ltr, num_cats)\n",
        "            # print(line_one_hot.shape)\n",
        "        else:\n",
        "            line_one_hot = torch.cat([line_one_hot, ltr_one_hot(ltr, num_cats)])\n",
        "    # return torch.unsqueeze(line_one_hot, 1)\n",
        "    return line_one_hot.type(torch.FloatTensor)\n",
        "\n",
        "def one_hot_tensor_to_line(one_hot_tensor):\n",
        "    line = ''\n",
        "    for one_hot_ltr in one_hot_tensor:\n",
        "        line += vocab_inv[torch.argmax(one_hot_ltr).item()]\n",
        "    return line"
      ],
      "execution_count": 70,
      "outputs": []
    },
    {
      "cell_type": "code",
      "metadata": {
        "id": "Y77enPrqYy1A"
      },
      "source": [
        "class MyDataset(Dataset):\n",
        "    def __init__(self, dataframe):\n",
        "        self.sequences = dataframe[DATA].apply(lambda name: line_to_one_hot_tensor(name, len(vocab))).tolist()\n",
        "        self.labels = dataframe[LABEL].apply(lbl_to_id).tolist()\n",
        "    \n",
        "    def __getitem__(self, i):\n",
        "        return self.sequences[i], self.labels[i]\n",
        "    \n",
        "    def __len__(self):\n",
        "        return len(self.sequences)\n",
        "\n",
        "\n",
        "training_dataset = MyDataset(df_train)\n",
        "test_dataset = MyDataset(df_test)\n",
        "\n",
        "train_loader = DataLoader(training_dataset, batch_size=1, shuffle=True)\n",
        "test_loader = DataLoader(test_dataset, batch_size=1, shuffle=True)"
      ],
      "execution_count": 71,
      "outputs": []
    },
    {
      "cell_type": "code",
      "metadata": {
        "id": "ttU6Y88Ps_2_",
        "colab": {
          "base_uri": "https://localhost:8080/"
        },
        "outputId": "0696723a-a7d9-42ed-b04f-f1c12c7b27b2"
      },
      "source": [
        "line_to_one_hot_tensor(\"slim shady\", len(vocab)).shape"
      ],
      "execution_count": 72,
      "outputs": [
        {
          "output_type": "execute_result",
          "data": {
            "text/plain": [
              "torch.Size([10, 33])"
            ]
          },
          "metadata": {
            "tags": []
          },
          "execution_count": 72
        }
      ]
    },
    {
      "cell_type": "markdown",
      "metadata": {
        "id": "PeFxwWosxTOZ"
      },
      "source": [
        "# Model"
      ]
    },
    {
      "cell_type": "code",
      "metadata": {
        "id": "NaPRHVzHxSyD"
      },
      "source": [
        "class RNN(nn.Module):\n",
        "    def __init__(self, input_size, num_classes):\n",
        "        super(RNN, self).__init__()\n",
        "        self.hidden_size = 128\n",
        "        self.num_layers = 1\n",
        "        self.rnn = nn.RNN(input_size, self.hidden_size, self.num_layers, batch_first=True)\n",
        "        self.fc = nn.Linear(self.hidden_size, num_classes)\n",
        "        self.softmax = nn.LogSoftmax(dim=1)\n",
        "    \n",
        "    def init_hidden(self):\n",
        "        return torch.randn(self.num_layers, 1, self.hidden_size).to(device), None  # to make it match with LSTM\n",
        "\n",
        "    def forward(self, x, h0):\n",
        "        out, h0 = self.rnn(x, h0)\n",
        "        # out = out.reshape(out.shape[0], -1)\n",
        "        out = out[:, -1, :]\n",
        "        out = self.softmax(self.fc(out))\n",
        "        return out, h0, None  # the 3rd arg is to make it match with LSTM api\n",
        "\n",
        "\n",
        "class ManualRNN(nn.Module):\n",
        "    # from: https://pytorch.org/tutorials/intermediate/char_rnn_classification_tutorial.html\n",
        "    # (with modifications)\n",
        "    def __init__(self, input_size, num_classes):\n",
        "        super(ManualRNN, self).__init__()\n",
        "        \n",
        "        self.hidden_size = 128\n",
        "        self.i2h = nn.Linear(input_size + self.hidden_size, self.hidden_size)\n",
        "        self.i2o = nn.Linear(input_size + self.hidden_size, num_classes)\n",
        "        self.softmax = nn.LogSoftmax(dim=1)\n",
        "        \n",
        "    def init_hidden(self):\n",
        "        return torch.zeros(1, 1, self.hidden_size).to(device), None  # to make it match with LSTM\n",
        "\n",
        "    def forward(self, input_tensor, hidden_tensor):\n",
        "        combined = torch.cat((input_tensor, hidden_tensor), 2)\n",
        "        \n",
        "        hidden = self.i2h(combined)\n",
        "        output = self.i2o(combined)\n",
        "        output = output[:, -1, :]\n",
        "        output = self.softmax(output)\n",
        "        return output, hidden, None  # the 3rd arg is to make it match with LSTM api\n",
        "\n",
        "\n",
        "class LSTM(nn.Module):\n",
        "    def __init__(self, input_size, num_classes):\n",
        "        super(LSTM, self).__init__()\n",
        "        self.hidden_size = 128\n",
        "        self.num_layers = 1\n",
        "        self.rnn = nn.LSTM(input_size, self.hidden_size, self.num_layers, batch_first=True)\n",
        "        self.fc = nn.Linear(self.hidden_size, num_classes)\n",
        "        self.softmax = nn.LogSoftmax(dim=1)\n",
        "    \n",
        "    def init_hidden(self):\n",
        "        h0 = torch.randn(self.num_layers, 1, self.hidden_size).to(device)\n",
        "        c0 = torch.randn(self.num_layers, 1, self.hidden_size).to(device)\n",
        "        return h0, c0\n",
        "\n",
        "    def forward(self, x, h0, c0):\n",
        "        out, hidden = self.rnn(x, (h0, c0))\n",
        "        h0, c0 = hidden\n",
        "        # out = out.reshape(out.shape[0], -1)\n",
        "        out = out[:, -1, :]\n",
        "        out = self.softmax(self.fc(out))\n",
        "        return out, h0, c0\n",
        "\n",
        "\n",
        "class GRU(nn.Module):\n",
        "    def __init__(self, input_size, num_classes):\n",
        "        super(GRU, self).__init__()\n",
        "        self.hidden_size = 128\n",
        "        self.num_layers = 1\n",
        "        self.rnn = nn.GRU(input_size, self.hidden_size, self.num_layers, batch_first=True)\n",
        "        self.fc = nn.Linear(self.hidden_size, num_classes)\n",
        "        self.softmax = nn.LogSoftmax(dim=1)\n",
        "    \n",
        "    def init_hidden(self):\n",
        "        return torch.randn(self.num_layers, 1, self.hidden_size).to(device), None  # to make it match with LSTM\n",
        "\n",
        "    def forward(self, x, h0):\n",
        "        out, hidden = self.rnn(x, h0)\n",
        "        # out = out.reshape(out.shape[0], -1)\n",
        "        out = out[:, -1, :]\n",
        "        out = self.softmax(self.fc(out))\n",
        "        return out, hidden, None  # the 3rd arg is to make it match with LSTM api\n",
        "\n",
        "\n",
        "# model = RNN(len(vocab), len(data)).to(device)\n",
        "# model = LSTM(len(vocab), len(data)).to(device)\n",
        "# model = GRU(len(vocab), len(data)).to(device)\n",
        "# model = ManualRNN(len(vocab), len(data)).to(device)\n",
        "# => moved to the bottom\n",
        "\n",
        "# Loss and optimizer\n",
        "# criterion = nn.CrossEntropyLoss()\n",
        "criterion = nn.NLLLoss()\n",
        "learning_rate = 0.005\n",
        "# learning_rate = 0.0001\n",
        "optimizer = lambda mdl: torch.optim.SGD(mdl.parameters(), lr=learning_rate)  \n",
        "# optimizer = lambda mdl: torch.optim.Adam(mdl.parameters(), lr=learning_rate)"
      ],
      "execution_count": 73,
      "outputs": []
    },
    {
      "cell_type": "code",
      "metadata": {
        "id": "XrYAQvUIIunJ"
      },
      "source": [
        "def softmax_to_prediction(softmax_output, classes):\n",
        "    return classes[torch.argmax(softmax_output).item()]"
      ],
      "execution_count": 74,
      "outputs": []
    },
    {
      "cell_type": "code",
      "metadata": {
        "id": "n5oR05jIDPjp",
        "colab": {
          "base_uri": "https://localhost:8080/"
        },
        "outputId": "54782e02-2a7a-452b-c71e-bc026611af70"
      },
      "source": [
        "# one step test\n",
        "model_test = ManualRNN(len(vocab), len(data)).to(device)\n",
        "input_tensor = ltr_one_hot('a', len(vocab)).to(device).unsqueeze(0)  # unsqueeze to imitate batch of size 1\n",
        "input_tensor = input_tensor.type(torch.FloatTensor).to(device)\n",
        "h0, c0 = model_test.init_hidden()\n",
        "\n",
        "if c0 is None:\n",
        "    output, next_hidden, _ = model_test(input_tensor, h0)\n",
        "else:\n",
        "    # LSTM\n",
        "    output, next_hidden, cell_state = model_test(input_tensor.type(torch.FloatTensor), h0, c0)\n",
        "\n",
        "print(f'input_tensor {input_tensor.shape}:\\n{input_tensor}')\n",
        "print(f'output {output.size()}')\n",
        "print(f'next_hidden {next_hidden.size()}')\n",
        "\n",
        "print(f'\\nPrediction: {id_to_lbl(softmax_to_prediction(output, encoded_lbls))}')\n",
        "model_test = None"
      ],
      "execution_count": 75,
      "outputs": [
        {
          "output_type": "stream",
          "text": [
            "input_tensor torch.Size([1, 1, 33]):\n",
            "tensor([[[0., 0., 0., 0., 0., 0., 0., 1., 0., 0., 0., 0., 0., 0., 0., 0., 0.,\n",
            "          0., 0., 0., 0., 0., 0., 0., 0., 0., 0., 0., 0., 0., 0., 0., 0.]]],\n",
            "       device='cuda:0')\n",
            "output torch.Size([1, 18])\n",
            "next_hidden torch.Size([1, 1, 128])\n",
            "\n",
            "Prediction: Irish\n"
          ],
          "name": "stdout"
        }
      ]
    },
    {
      "cell_type": "code",
      "metadata": {
        "id": "e8OB85wYLvCa"
      },
      "source": [
        "def evaluate(model, optim, line_tensor, category_tensor, train=False, log=False):\n",
        "    h0, c0 = model.init_hidden()\n",
        "    \n",
        "    for ltr_one_hot in line_tensor[0]:\n",
        "        if c0 is None:\n",
        "            output, h0, _ = model(torch.reshape(ltr_one_hot, (1,1,-1)), h0)\n",
        "        else:\n",
        "            # LSTM\n",
        "            output, h0, c0 = model(torch.reshape(ltr_one_hot, (1,1,-1)), h0, c0)\n",
        "    \n",
        "    if log:\n",
        "        print(f'output {output.shape}:\\n{output}')\n",
        "        print(f'category_tensor {category_tensor.shape}:\\n{category_tensor}')\n",
        "    loss = criterion(output, category_tensor)\n",
        "    \n",
        "    if train:\n",
        "        optim.zero_grad()\n",
        "        loss.backward()\n",
        "        optim.step()\n",
        "    \n",
        "    return output, loss.item()"
      ],
      "execution_count": 76,
      "outputs": []
    },
    {
      "cell_type": "code",
      "metadata": {
        "id": "cKQgv542MrL2"
      },
      "source": [
        "def train(model):\n",
        "    ts = datetime.now()\n",
        "    print(ts)\n",
        "    print('')\n",
        "\n",
        "    optim = optimizer(model)\n",
        "    train_losses, validation_losses = [], []\n",
        "    epochs = 30\n",
        "    model.train(mode=True)\n",
        "    for epoch in range(epochs):\n",
        "        epoch_train_loss, epoch_validation_loss = 0, 0\n",
        "        for name_tensor, label in train_loader:\n",
        "            name_tensor, label = name_tensor.to(device), label.to(device)\n",
        "\n",
        "            output, loss = evaluate(model, optim, name_tensor, label, train=True)\n",
        "            epoch_train_loss += loss\n",
        "        \n",
        "        train_losses.append(epoch_train_loss / len(training_dataset))\n",
        "\n",
        "        # validation eval\n",
        "        model.train(mode=False)  # enter eval mode\n",
        "        for val_data, val_labels in test_loader:\n",
        "            val_data, val_labels = val_data.to(device), val_labels.to(device)\n",
        "            \n",
        "            val_output, val_loss = evaluate(model, None, val_data, val_labels)\n",
        "            epoch_validation_loss += val_loss\n",
        "            \n",
        "        validation_losses.append(epoch_validation_loss / len(test_dataset))\n",
        "        model.train(mode=True)  # exit eval mode, re-enter training mode\n",
        "            \n",
        "        print(f\"Epoch {epoch}: Training Loss: {train_losses[-1]:.4f}, Validation Loss: {validation_losses[-1]:.4f}\")\n",
        "            \n",
        "\n",
        "    print('')\n",
        "    print(f'Training Time: {datetime.now() - ts}')\n",
        "    plt.figure()\n",
        "    plt.plot(train_losses)\n",
        "    plt.plot(validation_losses)\n",
        "    plt.legend(['Training Loss', 'Validation Loss'])\n",
        "    plt.show()"
      ],
      "execution_count": 77,
      "outputs": []
    },
    {
      "cell_type": "code",
      "metadata": {
        "id": "v9slhmMK4uBq"
      },
      "source": [
        "def test(model):\n",
        "    model.train(mode=False)  # enter eval mode\n",
        "    # with torch.no_grad():  # locally disable gradient tracking? (no, should not do it in RNN, becaues we do want grads to accumulate!)\n",
        "    print_cnt, print_num = 0, 20\n",
        "    for val_data, val_labels in test_loader:\n",
        "        val_data, val_labels = val_data.to(device), val_labels.to(device)\n",
        "        \n",
        "        val_output, _ = evaluate(model, None, val_data, val_labels)\n",
        "        pred = id_to_lbl(softmax_to_prediction(val_output, encoded_lbls))\n",
        "\n",
        "        name = one_hot_tensor_to_line(val_data.squeeze(0))\n",
        "        lbl = id_to_lbl(val_labels)\n",
        "        \n",
        "        print(f\"Name: {name:<16} Label: {lbl:<20} Prediction: {pred:<16} -- {'CORRECT' if lbl == pred else 'INCORRECT'}\")\n",
        "        print_cnt += 1\n",
        "        if print_cnt == print_num:\n",
        "            break"
      ],
      "execution_count": 78,
      "outputs": []
    },
    {
      "cell_type": "code",
      "metadata": {
        "colab": {
          "base_uri": "https://localhost:8080/",
          "height": 1000
        },
        "id": "bdG5TWt9n1Zu",
        "outputId": "b811ae8f-2838-409b-ce63-920fc936f26c"
      },
      "source": [
        "model = ManualRNN(len(vocab), len(data)).to(device)\n",
        "print(model)\n",
        "train(model)\n",
        "test(model)"
      ],
      "execution_count": 81,
      "outputs": [
        {
          "output_type": "stream",
          "text": [
            "ManualRNN(\n",
            "  (i2h): Linear(in_features=161, out_features=128, bias=True)\n",
            "  (i2o): Linear(in_features=161, out_features=18, bias=True)\n",
            "  (softmax): LogSoftmax(dim=1)\n",
            ")\n",
            "2021-08-01 17:57:25.355467\n",
            "\n",
            "Epoch 0: Training Loss: 1.4152, Validation Loss: 1.1575\n",
            "Epoch 1: Training Loss: 1.1128, Validation Loss: 1.0454\n",
            "Epoch 2: Training Loss: 1.0194, Validation Loss: 1.0271\n",
            "Epoch 3: Training Loss: 0.9711, Validation Loss: 0.9774\n",
            "Epoch 4: Training Loss: 0.9396, Validation Loss: 0.9429\n",
            "Epoch 5: Training Loss: 0.9226, Validation Loss: 0.9296\n",
            "Epoch 6: Training Loss: 0.8996, Validation Loss: 0.8967\n",
            "Epoch 7: Training Loss: 0.8874, Validation Loss: 0.8778\n",
            "Epoch 8: Training Loss: 0.8774, Validation Loss: 0.8813\n",
            "Epoch 9: Training Loss: 0.8698, Validation Loss: 0.8529\n",
            "Epoch 10: Training Loss: 0.8603, Validation Loss: 0.8543\n",
            "Epoch 11: Training Loss: 0.8591, Validation Loss: 0.8725\n",
            "Epoch 12: Training Loss: 0.8490, Validation Loss: 0.8514\n",
            "Epoch 13: Training Loss: 0.8456, Validation Loss: 0.8625\n",
            "Epoch 14: Training Loss: 0.8422, Validation Loss: 0.8329\n",
            "Epoch 15: Training Loss: 0.8379, Validation Loss: 0.8456\n",
            "Epoch 16: Training Loss: 0.8353, Validation Loss: 0.8568\n",
            "Epoch 17: Training Loss: 0.8347, Validation Loss: 0.8673\n",
            "Epoch 18: Training Loss: 0.8359, Validation Loss: 0.8695\n",
            "Epoch 19: Training Loss: 0.8292, Validation Loss: 0.8717\n",
            "Epoch 20: Training Loss: 0.8262, Validation Loss: 0.8350\n",
            "Epoch 21: Training Loss: 0.8208, Validation Loss: 0.8208\n",
            "Epoch 22: Training Loss: 0.8183, Validation Loss: 0.8269\n",
            "Epoch 23: Training Loss: 0.8213, Validation Loss: 0.8580\n",
            "Epoch 24: Training Loss: 0.8195, Validation Loss: 0.8292\n",
            "Epoch 25: Training Loss: 0.8156, Validation Loss: 0.8082\n",
            "Epoch 26: Training Loss: 0.8313, Validation Loss: 0.8538\n",
            "Epoch 27: Training Loss: 0.8201, Validation Loss: 0.8161\n",
            "Epoch 28: Training Loss: 0.8184, Validation Loss: 0.8266\n",
            "Epoch 29: Training Loss: 0.8129, Validation Loss: 0.8345\n",
            "\n",
            "Training Time: 0:19:38.036961\n"
          ],
          "name": "stdout"
        },
        {
          "output_type": "display_data",
          "data": {
            "image/png": "[encoded data removed]",
            "text/plain": [
              "<Figure size 432x288 with 1 Axes>"
            ]
          },
          "metadata": {
            "tags": [],
            "needs_background": "light"
          }
        },
        {
          "output_type": "stream",
          "text": [
            "Name: antoun           Label: Arabic               Prediction: Arabic           -- CORRECT\n",
            "Name: eoin             Label: Irish                Prediction: Russian          -- INCORRECT\n",
            "Name: karnoupakis      Label: Greek                Prediction: Greek            -- CORRECT\n",
            "Name: sayegh           Label: Arabic               Prediction: Arabic           -- CORRECT\n",
            "Name: ganem            Label: Arabic               Prediction: Arabic           -- CORRECT\n",
            "Name: turyanov         Label: Russian              Prediction: Russian          -- CORRECT\n",
            "Name: gaskoin          Label: Russian              Prediction: Russian          -- CORRECT\n",
            "Name: seredov          Label: Russian              Prediction: Russian          -- CORRECT\n",
            "Name: plant            Label: English              Prediction: English          -- CORRECT\n",
            "Name: engelmeier       Label: Russian              Prediction: German           -- INCORRECT\n",
            "Name: katzibin         Label: Russian              Prediction: Russian          -- CORRECT\n",
            "Name: molina           Label: Spanish              Prediction: Italian          -- INCORRECT\n",
            "Name: ustinovich       Label: Russian              Prediction: Russian          -- CORRECT\n",
            "Name: multah           Label: Russian              Prediction: Russian          -- CORRECT\n",
            "Name: mocharov         Label: Russian              Prediction: Russian          -- CORRECT\n",
            "Name: marfusalov       Label: Russian              Prediction: Russian          -- CORRECT\n",
            "Name: begum            Label: English              Prediction: Russian          -- INCORRECT\n",
            "Name: nichols          Label: English              Prediction: English          -- CORRECT\n",
            "Name: said             Label: Arabic               Prediction: Arabic           -- CORRECT\n",
            "Name: likhodeev        Label: Russian              Prediction: Russian          -- CORRECT\n"
          ],
          "name": "stdout"
        }
      ]
    },
    {
      "cell_type": "code",
      "metadata": {
        "colab": {
          "base_uri": "https://localhost:8080/",
          "height": 1000
        },
        "id": "Q38YnRCCnocW",
        "outputId": "3d3808b8-d318-4ae0-eeac-e2d1f2a2d49c"
      },
      "source": [
        "model = RNN(len(vocab), len(data)).to(device)\n",
        "print(model)\n",
        "train(model)\n",
        "test(model)"
      ],
      "execution_count": 82,
      "outputs": [
        {
          "output_type": "stream",
          "text": [
            "RNN(\n",
            "  (rnn): RNN(33, 128, batch_first=True)\n",
            "  (fc): Linear(in_features=128, out_features=18, bias=True)\n",
            "  (softmax): LogSoftmax(dim=1)\n",
            ")\n",
            "2021-08-01 18:17:03.598536\n",
            "\n",
            "Epoch 0: Training Loss: 1.4166, Validation Loss: 1.2148\n",
            "Epoch 1: Training Loss: 1.1372, Validation Loss: 1.1273\n",
            "Epoch 2: Training Loss: 1.0573, Validation Loss: 1.0346\n",
            "Epoch 3: Training Loss: 1.0126, Validation Loss: 0.9701\n",
            "Epoch 4: Training Loss: 0.9718, Validation Loss: 1.0111\n",
            "Epoch 5: Training Loss: 0.9343, Validation Loss: 0.9359\n",
            "Epoch 6: Training Loss: 0.8989, Validation Loss: 0.8995\n",
            "Epoch 7: Training Loss: 0.8654, Validation Loss: 0.8528\n",
            "Epoch 8: Training Loss: 0.8405, Validation Loss: 0.8408\n",
            "Epoch 9: Training Loss: 0.8094, Validation Loss: 0.8291\n",
            "Epoch 10: Training Loss: 0.7905, Validation Loss: 0.8228\n",
            "Epoch 11: Training Loss: 0.7721, Validation Loss: 0.8476\n",
            "Epoch 12: Training Loss: 0.7528, Validation Loss: 0.7873\n",
            "Epoch 13: Training Loss: 0.7322, Validation Loss: 0.7848\n",
            "Epoch 14: Training Loss: 0.7271, Validation Loss: 0.7988\n",
            "Epoch 15: Training Loss: 0.7061, Validation Loss: 0.8433\n",
            "Epoch 16: Training Loss: 0.7027, Validation Loss: 0.7677\n",
            "Epoch 17: Training Loss: 0.6856, Validation Loss: 0.7745\n",
            "Epoch 18: Training Loss: 0.6816, Validation Loss: 0.7751\n",
            "Epoch 19: Training Loss: 0.6695, Validation Loss: 0.7450\n",
            "Epoch 20: Training Loss: 0.6669, Validation Loss: 0.7636\n",
            "Epoch 21: Training Loss: 0.6570, Validation Loss: 0.7417\n",
            "Epoch 22: Training Loss: 0.6506, Validation Loss: 0.7828\n",
            "Epoch 23: Training Loss: 0.6494, Validation Loss: 0.7447\n",
            "Epoch 24: Training Loss: 0.6301, Validation Loss: 0.7531\n",
            "Epoch 25: Training Loss: 0.6302, Validation Loss: 0.7552\n",
            "Epoch 26: Training Loss: 0.6279, Validation Loss: 0.7552\n",
            "Epoch 27: Training Loss: 0.6170, Validation Loss: 0.8083\n",
            "Epoch 28: Training Loss: 0.6143, Validation Loss: 0.8198\n",
            "Epoch 29: Training Loss: 0.6055, Validation Loss: 0.7472\n",
            "\n",
            "Training Time: 0:37:01.646985\n"
          ],
          "name": "stdout"
        },
        {
          "output_type": "display_data",
          "data": {
            "image/png": "[encoded data removed]",
            "text/plain": [
              "<Figure size 432x288 with 1 Axes>"
            ]
          },
          "metadata": {
            "tags": [],
            "needs_background": "light"
          }
        },
        {
          "output_type": "stream",
          "text": [
            "Name: ayling           Label: English              Prediction: English          -- CORRECT\n",
            "Name: duarte           Label: Spanish              Prediction: English          -- INCORRECT\n",
            "Name: hadad            Label: Arabic               Prediction: Arabic           -- CORRECT\n",
            "Name: von grimmelshausen Label: German               Prediction: Dutch            -- INCORRECT\n",
            "Name: kurata           Label: Japanese             Prediction: Japanese         -- CORRECT\n",
            "Name: schultz          Label: German               Prediction: German           -- CORRECT\n",
            "Name: livadin          Label: Russian              Prediction: Russian          -- CORRECT\n",
            "Name: nadwornik        Label: Czech                Prediction: Russian          -- INCORRECT\n",
            "Name: belogolovy       Label: Russian              Prediction: Czech            -- INCORRECT\n",
            "Name: esmansky         Label: Russian              Prediction: Russian          -- CORRECT\n",
            "Name: naser            Label: Arabic               Prediction: Arabic           -- CORRECT\n",
            "Name: fearon           Label: English              Prediction: English          -- CORRECT\n",
            "Name: assaf            Label: Arabic               Prediction: Arabic           -- CORRECT\n",
            "Name: abbas            Label: English              Prediction: Arabic           -- INCORRECT\n",
            "Name: jaimov           Label: Russian              Prediction: Russian          -- CORRECT\n",
            "Name: hashimoto        Label: Japanese             Prediction: Japanese         -- CORRECT\n",
            "Name: jaskolski        Label: Polish               Prediction: Polish           -- CORRECT\n",
            "Name: kattan           Label: Arabic               Prediction: Arabic           -- CORRECT\n",
            "Name: gashkin          Label: Russian              Prediction: Russian          -- CORRECT\n",
            "Name: twine            Label: English              Prediction: English          -- CORRECT\n"
          ],
          "name": "stdout"
        }
      ]
    },
    {
      "cell_type": "code",
      "metadata": {
        "colab": {
          "base_uri": "https://localhost:8080/",
          "height": 1000
        },
        "id": "GtBg88mJynSa",
        "outputId": "462e122b-733e-468f-deec-a897b66c0a4e"
      },
      "source": [
        "model = GRU(len(vocab), len(data)).to(device)\n",
        "print(model)\n",
        "train(model)\n",
        "test(model)"
      ],
      "execution_count": 79,
      "outputs": [
        {
          "output_type": "stream",
          "text": [
            "GRU(\n",
            "  (rnn): GRU(33, 128, batch_first=True)\n",
            "  (fc): Linear(in_features=128, out_features=18, bias=True)\n",
            "  (softmax): LogSoftmax(dim=1)\n",
            ")\n",
            "2021-08-01 16:24:26.075286\n",
            "\n",
            "Epoch 0: Training Loss: 1.6094, Validation Loss: 1.4051\n",
            "Epoch 1: Training Loss: 1.3087, Validation Loss: 1.2254\n",
            "Epoch 2: Training Loss: 1.1731, Validation Loss: 1.1307\n",
            "Epoch 3: Training Loss: 1.0918, Validation Loss: 1.0937\n",
            "Epoch 4: Training Loss: 1.0361, Validation Loss: 1.0851\n",
            "Epoch 5: Training Loss: 0.9908, Validation Loss: 0.9811\n",
            "Epoch 6: Training Loss: 0.9564, Validation Loss: 0.9512\n",
            "Epoch 7: Training Loss: 0.9296, Validation Loss: 0.9259\n",
            "Epoch 8: Training Loss: 0.8968, Validation Loss: 0.8999\n",
            "Epoch 9: Training Loss: 0.8689, Validation Loss: 0.8626\n",
            "Epoch 10: Training Loss: 0.8420, Validation Loss: 0.8620\n",
            "Epoch 11: Training Loss: 0.8148, Validation Loss: 0.8304\n",
            "Epoch 12: Training Loss: 0.7909, Validation Loss: 0.7986\n",
            "Epoch 13: Training Loss: 0.7647, Validation Loss: 0.7778\n",
            "Epoch 14: Training Loss: 0.7420, Validation Loss: 0.7648\n",
            "Epoch 15: Training Loss: 0.7168, Validation Loss: 0.7424\n",
            "Epoch 16: Training Loss: 0.7006, Validation Loss: 0.7266\n",
            "Epoch 17: Training Loss: 0.6776, Validation Loss: 0.7212\n",
            "Epoch 18: Training Loss: 0.6541, Validation Loss: 0.6922\n",
            "Epoch 19: Training Loss: 0.6371, Validation Loss: 0.7035\n",
            "Epoch 20: Training Loss: 0.6189, Validation Loss: 0.6835\n",
            "Epoch 21: Training Loss: 0.6004, Validation Loss: 0.6752\n",
            "Epoch 22: Training Loss: 0.5864, Validation Loss: 0.6666\n",
            "Epoch 23: Training Loss: 0.5693, Validation Loss: 0.6575\n",
            "Epoch 24: Training Loss: 0.5520, Validation Loss: 0.6443\n",
            "Epoch 25: Training Loss: 0.5369, Validation Loss: 0.6557\n",
            "Epoch 26: Training Loss: 0.5215, Validation Loss: 0.6666\n",
            "Epoch 27: Training Loss: 0.5062, Validation Loss: 0.6428\n",
            "Epoch 28: Training Loss: 0.4932, Validation Loss: 0.6527\n",
            "Epoch 29: Training Loss: 0.4824, Validation Loss: 0.6365\n",
            "\n",
            "Training Time: 0:37:13.744094\n"
          ],
          "name": "stdout"
        },
        {
          "output_type": "display_data",
          "data": {
            "image/png": "[encoded data removed]",
            "text/plain": [
              "<Figure size 432x288 with 1 Axes>"
            ]
          },
          "metadata": {
            "tags": [],
            "needs_background": "light"
          }
        },
        {
          "output_type": "stream",
          "text": [
            "Name: francis          Label: English              Prediction: English          -- CORRECT\n",
            "Name: vabbe            Label: Russian              Prediction: English          -- INCORRECT\n",
            "Name: york             Label: English              Prediction: English          -- CORRECT\n",
            "Name: anikanov         Label: Russian              Prediction: Russian          -- CORRECT\n",
            "Name: smart            Label: English              Prediction: English          -- CORRECT\n",
            "Name: ekin             Label: Russian              Prediction: Russian          -- CORRECT\n",
            "Name: sasada           Label: Japanese             Prediction: Japanese         -- CORRECT\n",
            "Name: markholenko      Label: Russian              Prediction: Russian          -- CORRECT\n",
            "Name: diaz             Label: Spanish              Prediction: Arabic           -- INCORRECT\n",
            "Name: awad             Label: Arabic               Prediction: Arabic           -- CORRECT\n",
            "Name: sayegh           Label: Arabic               Prediction: Arabic           -- CORRECT\n",
            "Name: dalach           Label: Irish                Prediction: Russian          -- INCORRECT\n",
            "Name: valyaev          Label: Russian              Prediction: Russian          -- CORRECT\n",
            "Name: hogan            Label: English              Prediction: English          -- CORRECT\n",
            "Name: sanda            Label: Japanese             Prediction: Japanese         -- CORRECT\n",
            "Name: albert           Label: Spanish              Prediction: English          -- INCORRECT\n",
            "Name: gluz             Label: Russian              Prediction: Spanish          -- INCORRECT\n",
            "Name: vyvodtsev        Label: Russian              Prediction: Russian          -- CORRECT\n",
            "Name: nagel            Label: Dutch                Prediction: German           -- INCORRECT\n",
            "Name: hanzhiev         Label: Russian              Prediction: Russian          -- CORRECT\n"
          ],
          "name": "stdout"
        }
      ]
    },
    {
      "cell_type": "code",
      "metadata": {
        "colab": {
          "base_uri": "https://localhost:8080/",
          "height": 1000
        },
        "id": "qYjIatzonupR",
        "outputId": "19f181fb-73a4-4c11-e932-e9cbd97ca9cf"
      },
      "source": [
        "model = LSTM(len(vocab), len(data)).to(device)\n",
        "print(model)\n",
        "train(model)\n",
        "test(model)"
      ],
      "execution_count": 80,
      "outputs": [
        {
          "output_type": "stream",
          "text": [
            "LSTM(\n",
            "  (rnn): LSTM(33, 128, batch_first=True)\n",
            "  (fc): Linear(in_features=128, out_features=18, bias=True)\n",
            "  (softmax): LogSoftmax(dim=1)\n",
            ")\n",
            "2021-08-01 17:01:40.059244\n",
            "\n",
            "Epoch 0: Training Loss: 1.7380, Validation Loss: 1.5510\n",
            "Epoch 1: Training Loss: 1.4568, Validation Loss: 1.3744\n",
            "Epoch 2: Training Loss: 1.3053, Validation Loss: 1.2320\n",
            "Epoch 3: Training Loss: 1.1787, Validation Loss: 1.1391\n",
            "Epoch 4: Training Loss: 1.1009, Validation Loss: 1.0731\n",
            "Epoch 5: Training Loss: 1.0448, Validation Loss: 1.0136\n",
            "Epoch 6: Training Loss: 1.0003, Validation Loss: 1.0076\n",
            "Epoch 7: Training Loss: 0.9645, Validation Loss: 0.9466\n",
            "Epoch 8: Training Loss: 0.9327, Validation Loss: 0.9142\n",
            "Epoch 9: Training Loss: 0.9032, Validation Loss: 0.9105\n",
            "Epoch 10: Training Loss: 0.8760, Validation Loss: 0.9007\n",
            "Epoch 11: Training Loss: 0.8516, Validation Loss: 0.8534\n",
            "Epoch 12: Training Loss: 0.8263, Validation Loss: 0.8515\n",
            "Epoch 13: Training Loss: 0.8081, Validation Loss: 0.8319\n",
            "Epoch 14: Training Loss: 0.7873, Validation Loss: 0.8294\n",
            "Epoch 15: Training Loss: 0.7697, Validation Loss: 0.7905\n",
            "Epoch 16: Training Loss: 0.7475, Validation Loss: 0.7880\n",
            "Epoch 17: Training Loss: 0.7316, Validation Loss: 0.7728\n",
            "Epoch 18: Training Loss: 0.7163, Validation Loss: 0.7538\n",
            "Epoch 19: Training Loss: 0.7019, Validation Loss: 0.7499\n",
            "Epoch 20: Training Loss: 0.6860, Validation Loss: 0.7771\n",
            "Epoch 21: Training Loss: 0.6718, Validation Loss: 0.7306\n",
            "Epoch 22: Training Loss: 0.6572, Validation Loss: 0.7068\n",
            "Epoch 23: Training Loss: 0.6473, Validation Loss: 0.7229\n",
            "Epoch 24: Training Loss: 0.6333, Validation Loss: 0.7142\n",
            "Epoch 25: Training Loss: 0.6240, Validation Loss: 0.6846\n",
            "Epoch 26: Training Loss: 0.6115, Validation Loss: 0.7158\n",
            "Epoch 27: Training Loss: 0.6028, Validation Loss: 0.6979\n",
            "Epoch 28: Training Loss: 0.5925, Validation Loss: 0.6863\n",
            "Epoch 29: Training Loss: 0.5798, Validation Loss: 0.6722\n",
            "\n",
            "Training Time: 0:38:33.138747\n"
          ],
          "name": "stdout"
        },
        {
          "output_type": "display_data",
          "data": {
            "image/png": "[encoded data removed]",
            "text/plain": [
              "<Figure size 432x288 with 1 Axes>"
            ]
          },
          "metadata": {
            "tags": [],
            "needs_background": "light"
          }
        },
        {
          "output_type": "stream",
          "text": [
            "Name: elepov           Label: Russian              Prediction: Russian          -- CORRECT\n",
            "Name: itami            Label: Japanese             Prediction: Arabic           -- INCORRECT\n",
            "Name: bakinoff         Label: Russian              Prediction: Russian          -- CORRECT\n",
            "Name: pakhomov         Label: Russian              Prediction: Russian          -- CORRECT\n",
            "Name: mifsud           Label: Arabic               Prediction: Arabic           -- CORRECT\n",
            "Name: hurley           Label: English              Prediction: English          -- CORRECT\n",
            "Name: avkhimovitch     Label: Russian              Prediction: Russian          -- CORRECT\n",
            "Name: dirchs           Label: German               Prediction: English          -- INCORRECT\n",
            "Name: moghadam         Label: Arabic               Prediction: Arabic           -- CORRECT\n",
            "Name: tcheharin        Label: Russian              Prediction: Russian          -- CORRECT\n",
            "Name: jivlyuk          Label: Russian              Prediction: Russian          -- CORRECT\n",
            "Name: almetiev         Label: Russian              Prediction: Russian          -- CORRECT\n",
            "Name: abdulbekoff      Label: Russian              Prediction: Russian          -- CORRECT\n",
            "Name: luzzatto         Label: Italian              Prediction: Russian          -- INCORRECT\n",
            "Name: tupihin          Label: Russian              Prediction: Russian          -- CORRECT\n",
            "Name: naser            Label: Arabic               Prediction: Arabic           -- CORRECT\n",
            "Name: dikul            Label: Russian              Prediction: Russian          -- CORRECT\n",
            "Name: seif             Label: Arabic               Prediction: Arabic           -- CORRECT\n",
            "Name: hadad            Label: Arabic               Prediction: Arabic           -- CORRECT\n",
            "Name: schrijnemakers   Label: Dutch                Prediction: Dutch            -- CORRECT\n"
          ],
          "name": "stdout"
        }
      ]
    }
  ]
}