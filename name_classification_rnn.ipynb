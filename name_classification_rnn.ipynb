{
  "nbformat": 4,
  "nbformat_minor": 0,
  "metadata": {
    "colab": {
      "name": "name-classification-rnn.ipynb",
      "provenance": [],
      "collapsed_sections": [],
      "authorship_tag": "ABX9TyMDcp/PMfnpWGBuZ9/eTmjM",
      "include_colab_link": true
    },
    "kernelspec": {
      "name": "python3",
      "display_name": "Python 3"
    },
    "language_info": {
      "name": "python"
    },
    "accelerator": "GPU"
  },
  "cells": [
    {
      "cell_type": "markdown",
      "metadata": {
        "id": "view-in-github",
        "colab_type": "text"
      },
      "source": [
        "<a href=\"https://colab.research.google.com/github/masalha-alaa/name-classification-pytorch/blob/master/name_classification_rnn.ipynb\" target=\"_parent\"><img src=\"https://colab.research.google.com/assets/colab-badge.svg\" alt=\"Open In Colab\"/></a>"
      ]
    },
    {
      "cell_type": "code",
      "metadata": {
        "id": "_ePkyy-Oc8JX",
        "colab": {
          "base_uri": "https://localhost:8080/"
        },
        "outputId": "2b1939d7-547b-47f4-d7e7-0e0e9911774a"
      },
      "source": [
        "import os\n",
        "from google.colab import drive\n",
        "!pip install unidecode\n",
        "import unidecode\n",
        "\n",
        "from sklearn.metrics import confusion_matrix\n",
        "from sklearn.utils.class_weight import compute_class_weight\n",
        "\n",
        "import torch\n",
        "import torch.nn as nn\n",
        "from torch.optim.lr_scheduler import ReduceLROnPlateau, MultiStepLR\n",
        "import torch.nn.functional as F\n",
        "from torch.utils.data import Dataset, DataLoader, ConcatDataset\n",
        "import torch.utils.data as data_utils\n",
        "\n",
        "import numpy as np\n",
        "import pandas as pd\n",
        "from scipy.sparse import csr_matrix\n",
        "\n",
        "from pathlib import Path\n",
        "import zipfile\n",
        "from pickle import load\n",
        "\n",
        "from sklearn.feature_extraction.text import CountVectorizer, TfidfVectorizer\n",
        "from sklearn.preprocessing import LabelEncoder\n",
        "from sklearn.metrics import confusion_matrix\n",
        "from sklearn import utils\n",
        "\n",
        "from bisect import bisect_left\n",
        "\n",
        "import random\n",
        "from tqdm.notebook import tqdm\n",
        "import matplotlib.pyplot as plt\n",
        "import itertools\n",
        "import copy\n",
        "from math import ceil\n",
        "from datetime import datetime\n",
        "\n",
        "SEED = 42"
      ],
      "execution_count": 103,
      "outputs": [
        {
          "output_type": "stream",
          "text": [
            "Requirement already satisfied: unidecode in /usr/local/lib/python3.7/dist-packages (1.2.0)\n"
          ],
          "name": "stdout"
        }
      ]
    },
    {
      "cell_type": "code",
      "metadata": {
        "id": "aqSmIBfbdFnr",
        "colab": {
          "base_uri": "https://localhost:8080/"
        },
        "outputId": "accb6cbf-2c5c-4e29-af07-05fb5f792231"
      },
      "source": [
        "drive.mount('/content/gdrive')"
      ],
      "execution_count": 104,
      "outputs": [
        {
          "output_type": "stream",
          "text": [
            "Drive already mounted at /content/gdrive; to attempt to forcibly remount, call drive.mount(\"/content/gdrive\", force_remount=True).\n"
          ],
          "name": "stdout"
        }
      ]
    },
    {
      "cell_type": "code",
      "metadata": {
        "id": "nyxolX3BdIb6",
        "colab": {
          "base_uri": "https://localhost:8080/"
        },
        "outputId": "e768d5db-0155-4d98-bf70-9397727d92a6"
      },
      "source": [
        "# Use GPU if available\n",
        "\n",
        "device = 'cuda' if torch.cuda.is_available() else 'cpu'\n",
        "print(f'Running on {device}')"
      ],
      "execution_count": 105,
      "outputs": [
        {
          "output_type": "stream",
          "text": [
            "Running on cpu\n"
          ],
          "name": "stdout"
        }
      ]
    },
    {
      "cell_type": "code",
      "metadata": {
        "id": "XUg6FapjdJes",
        "colab": {
          "base_uri": "https://localhost:8080/"
        },
        "outputId": "9d5156d3-0dd2-400d-f777-114dd86e8b55"
      },
      "source": [
        "# Extract data\n",
        "\n",
        "DATA_DIR = Path(\"/content/gdrive/MyDrive/name-classification/\")\n",
        "\n",
        "if not os.path.exists(DATA_DIR / 'data'):\n",
        "    print('Extracting data...')\n",
        "    with zipfile.ZipFile(DATA_DIR / 'data.zip', 'r') as z:\n",
        "        z.extractall(DATA_DIR)\n",
        "    print('Done')\n",
        "\n",
        "data = {}\n",
        "for f in os.listdir(DATA_DIR / 'data'):\n",
        "    # data[f.replace('.txt', '')] = [unidecode.unidecode(name.strip().lower()) for name in open(DATA_DIR / 'data' / f).readlines()]\n",
        "    data[f.replace('.txt', '')] = [unidecode.unidecode(name.strip()) for name in open(DATA_DIR / 'data' / f).readlines()]\n",
        "    # data[f.replace('.txt', '')] = [name.strip() for name in open(DATA_DIR / 'data' / f).readlines()]\n",
        "\n",
        "print(f\"{len(data)} files: {data.keys()}\")"
      ],
      "execution_count": 106,
      "outputs": [
        {
          "output_type": "stream",
          "text": [
            "16 files: dict_keys(['Arabic', 'Chinese', 'Czech', 'Dutch', 'English', 'French', 'German', 'Greek', 'Italian', 'Japanese', 'Korean', 'Polish', 'Portuguese', 'Russian', 'Spanish', 'Vietnamese'])\n"
          ],
          "name": "stdout"
        }
      ]
    },
    {
      "cell_type": "code",
      "metadata": {
        "id": "jIaR_8tgfM6B",
        "colab": {
          "base_uri": "https://localhost:8080/"
        },
        "outputId": "110726d2-6a71-4760-b23a-09a043e93a5d"
      },
      "source": [
        "# Take a look at some data\n",
        "\n",
        "show_langs, show_names = 4, 5\n",
        "for i,(k,v) in enumerate(data.items()):\n",
        "    print(f'{k}: {[name for name in v[:show_names]]}')\n",
        "    if i == show_langs:\n",
        "        break"
      ],
      "execution_count": 107,
      "outputs": [
        {
          "output_type": "stream",
          "text": [
            "Arabic: ['Khoury', 'Nahas', 'Daher', 'Gerges', 'Nazari']\n",
            "Chinese: ['Ang', 'Au-Yong', 'Bai', 'Ban', 'Bao']\n",
            "Czech: ['Abl', 'Adsit', 'Ajdrna', 'Alt', 'Antonowitsch']\n",
            "Dutch: ['Aalsburg', 'Aalst', 'Aarle', 'Achteren', 'Achthoven']\n",
            "English: ['Abbas', 'Abbey', 'Abbott', 'Abdi', 'Abel']\n"
          ],
          "name": "stdout"
        }
      ]
    },
    {
      "cell_type": "code",
      "metadata": {
        "colab": {
          "base_uri": "https://localhost:8080/"
        },
        "id": "vBNIb-H8MPSQ",
        "outputId": "023d23c7-6d6e-483a-955f-64275cf5f5b2"
      },
      "source": [
        "# Convert to dataframe for ease of use\n",
        "DATA, LABEL = 'data', 'label'\n",
        "df0 = pd.DataFrame(data=[[name, lang] for lang in data.keys() for name in data[lang]], columns=[DATA, LABEL]);\n",
        "df_grouped_0 = df0.groupby(LABEL)\n",
        "print(f'df1:\\n{df_grouped_0.count()}')  # => it's massively biased!!!\n",
        "print('')\n",
        "\n",
        "MAX_SAMPLE_SIZE = df_grouped_0.count().max()[0]\n",
        "# MAX_SAMPLE_SIZE = 700\n",
        "df = df_grouped_0.apply(lambda g: g.sample(n=MAX_SAMPLE_SIZE if len(g) >= MAX_SAMPLE_SIZE else len(g))).reset_index(drop=True)\n",
        "df_grouped = df.groupby(LABEL)\n",
        "print(f'df2:\\n{df_grouped.count()}')"
      ],
      "execution_count": 108,
      "outputs": [
        {
          "output_type": "stream",
          "text": [
            "df1:\n",
            "            data\n",
            "label           \n",
            "Arabic      2000\n",
            "Chinese      268\n",
            "Czech        519\n",
            "Dutch        297\n",
            "English     3668\n",
            "French       277\n",
            "German       724\n",
            "Greek        203\n",
            "Italian      709\n",
            "Japanese     991\n",
            "Korean        94\n",
            "Polish       139\n",
            "Portuguese    74\n",
            "Russian     9408\n",
            "Spanish      298\n",
            "Vietnamese    73\n",
            "\n",
            "df2:\n",
            "            data\n",
            "label           \n",
            "Arabic      2000\n",
            "Chinese      268\n",
            "Czech        519\n",
            "Dutch        297\n",
            "English     3668\n",
            "French       277\n",
            "German       724\n",
            "Greek        203\n",
            "Italian      709\n",
            "Japanese     991\n",
            "Korean        94\n",
            "Polish       139\n",
            "Portuguese    74\n",
            "Russian     9408\n",
            "Spanish      298\n",
            "Vietnamese    73\n"
          ],
          "name": "stdout"
        }
      ]
    },
    {
      "cell_type": "code",
      "metadata": {
        "colab": {
          "base_uri": "https://localhost:8080/"
        },
        "id": "96E3BjYFV4IK",
        "outputId": "ec8a330a-dd81-40b2-cbb3-e2b5b6280e1b"
      },
      "source": [
        "df_train = df_grouped.sample(frac=0.8, random_state=SEED)\n",
        "df_train_idx_set = set(df_train.index)\n",
        "df_test = df.loc[[idx for idx in df.index if idx not in df_train_idx_set], :]\n",
        "print(f\"[Train]:\\n{df_train.groupby(LABEL).count()}\\n({df_train.shape[0]} entries)\\n\\nSamples:\\n{df_train.sample(5, random_state=SEED)}\")\n",
        "print('')\n",
        "print(f\"[Test]:\\n{df_test.groupby(LABEL).count()}\\n({df_test.shape[0]} entries)\\n\\nSamples:\\n{df_test.sample(5, random_state=SEED)}\")\n",
        "\n",
        "df_train.reset_index(drop=True, inplace=True)\n",
        "df_test.reset_index(drop=True, inplace=True)"
      ],
      "execution_count": 109,
      "outputs": [
        {
          "output_type": "stream",
          "text": [
            "[Train]:\n",
            "            data\n",
            "label           \n",
            "Arabic      1600\n",
            "Chinese      214\n",
            "Czech        415\n",
            "Dutch        238\n",
            "English     2934\n",
            "French       222\n",
            "German       579\n",
            "Greek        162\n",
            "Italian      567\n",
            "Japanese     793\n",
            "Korean        75\n",
            "Polish       111\n",
            "Portuguese    59\n",
            "Russian     7526\n",
            "Spanish      238\n",
            "Vietnamese    58\n",
            "(15791 entries)\n",
            "\n",
            "Samples:\n",
            "             data    label\n",
            "13872  Mordkovich  Russian\n",
            "1593        Totah   Arabic\n",
            "3119       Jervis  English\n",
            "4520     Kentwood  English\n",
            "738          Tuma   Arabic\n",
            "\n",
            "[Test]:\n",
            "            data\n",
            "label           \n",
            "Arabic       400\n",
            "Chinese       54\n",
            "Czech        104\n",
            "Dutch         59\n",
            "English      734\n",
            "French        55\n",
            "German       145\n",
            "Greek         41\n",
            "Italian      142\n",
            "Japanese     198\n",
            "Korean        19\n",
            "Polish        28\n",
            "Portuguese    15\n",
            "Russian     1882\n",
            "Spanish       60\n",
            "Vietnamese    15\n",
            "(3951 entries)\n",
            "\n",
            "Samples:\n",
            "              data     label\n",
            "15660  Yadrihinsky   Russian\n",
            "10557        Mahno   Russian\n",
            "9028       Asahara  Japanese\n",
            "397          Nader    Arabic\n",
            "12993    Grobivker   Russian\n"
          ],
          "name": "stdout"
        }
      ]
    },
    {
      "cell_type": "code",
      "metadata": {
        "id": "J4y8JbOkJSVy"
      },
      "source": [
        "# encode labels\n",
        "\n",
        "le = LabelEncoder()\n",
        "encoded_lbls = le.fit_transform(list(data))  # list(data) makes a list of the dictionary's KEYS! (i.e. the countries)\n",
        "\n",
        "def lbl_to_id(lbl):\n",
        "    if torch.is_tensor(lbl):\n",
        "        lbl = lbl.cpu().numpy()\n",
        "    if isinstance(lbl, np.ndarray):\n",
        "        return le.transform(lbl)[0]\n",
        "    return le.transform([lbl])[0]\n",
        "\n",
        "def id_to_lbl(lbl_id):\n",
        "    if torch.is_tensor(lbl_id):\n",
        "        lbl_id = lbl_id.cpu().numpy()\n",
        "    if isinstance(lbl_id, np.ndarray):\n",
        "        return le.inverse_transform(lbl_id)[0]\n",
        "    return le.inverse_transform([lbl_id])[0]\n",
        "\n",
        "\n",
        "# calculate classes weight because we have a huge imbalance\n",
        "# both ways work more or less the same\n",
        "# loss_weights = [1 / (len(df_grouped.get_group(g)) / df.shape[0]) for g in le.classes_]\n",
        "loss_weights = compute_class_weight('balanced', classes=[lbl_to_id(g) for g in le.classes_], y=df[LABEL].apply(lbl_to_id).tolist())"
      ],
      "execution_count": 110,
      "outputs": []
    },
    {
      "cell_type": "code",
      "metadata": {
        "id": "q5-UPHN4gbQu",
        "colab": {
          "base_uri": "https://localhost:8080/"
        },
        "outputId": "6d5be2f1-b713-47c4-be29-325fc2920c10"
      },
      "source": [
        "# The unique characters in the files\n",
        "vocab = sorted(set(' '.join(sum(data.values(), []))))\n",
        "vocab_d = {k:v for v,k in enumerate(vocab)}\n",
        "vocab_inv = {v:k for v,k in enumerate(vocab)}\n",
        "print(f'{len(vocab)} unique characters')\n",
        "print(vocab[:20])"
      ],
      "execution_count": 111,
      "outputs": [
        {
          "output_type": "stream",
          "text": [
            "59 unique characters\n",
            "[' ', \"'\", ',', '-', '/', '1', ':', 'A', 'B', 'C', 'D', 'E', 'F', 'G', 'H', 'I', 'J', 'K', 'L', 'M']\n"
          ],
          "name": "stdout"
        }
      ]
    },
    {
      "cell_type": "markdown",
      "metadata": {
        "id": "YBAsXShhhJAT"
      },
      "source": [
        "## Text Vectorization"
      ]
    },
    {
      "cell_type": "code",
      "metadata": {
        "id": "vEMJOqEghGn-"
      },
      "source": [
        "# letters one hot encoding\n",
        "def ltr_one_hot(ltr, num_cats):\n",
        "    # num_cats: number of categories for the one hot encoding (usually len(vocab))\n",
        "    def char_to_id(ch):\n",
        "        return vocab_d[ch]\n",
        "    return torch.nn.functional.one_hot(torch.LongTensor([char_to_id(ltr)]), num_cats)\n",
        "\n",
        "# line one hot\n",
        "def line_to_one_hot_tensor(line, num_cats):\n",
        "    # num_cats: number of categories for the one hot encoding (usually len(vocab))\n",
        "    line_one_hot = None\n",
        "    for i, ltr in enumerate(line):\n",
        "        if line_one_hot is None:\n",
        "            line_one_hot = ltr_one_hot(ltr, num_cats)\n",
        "            # print(line_one_hot.shape)\n",
        "        else:\n",
        "            line_one_hot = torch.cat([line_one_hot, ltr_one_hot(ltr, num_cats)])\n",
        "    # return torch.unsqueeze(line_one_hot, 1)\n",
        "    return line_one_hot.type(torch.FloatTensor)\n",
        "\n",
        "def one_hot_tensor_to_line(one_hot_tensor):\n",
        "    line = ''\n",
        "    for one_hot_ltr in one_hot_tensor:\n",
        "        line += vocab_inv[torch.argmax(one_hot_ltr).item()]\n",
        "    return line"
      ],
      "execution_count": 112,
      "outputs": []
    },
    {
      "cell_type": "code",
      "metadata": {
        "id": "Y77enPrqYy1A"
      },
      "source": [
        "class MyDataset(Dataset):\n",
        "    def __init__(self, dataframe):\n",
        "        self.sequences = dataframe[DATA].apply(lambda name: line_to_one_hot_tensor(name, len(vocab))).tolist()\n",
        "        self.labels = dataframe[LABEL].apply(lbl_to_id).tolist()\n",
        "    \n",
        "    def __getitem__(self, i):\n",
        "        return self.sequences[i], self.labels[i]\n",
        "    \n",
        "    def __len__(self):\n",
        "        return len(self.sequences)\n",
        "\n",
        "\n",
        "training_dataset = MyDataset(df_train)\n",
        "test_dataset = MyDataset(df_test)\n",
        "\n",
        "train_loader = DataLoader(training_dataset, batch_size=1, shuffle=True)\n",
        "test_loader = DataLoader(test_dataset, batch_size=1, shuffle=True)"
      ],
      "execution_count": 113,
      "outputs": []
    },
    {
      "cell_type": "code",
      "metadata": {
        "id": "ttU6Y88Ps_2_",
        "colab": {
          "base_uri": "https://localhost:8080/"
        },
        "outputId": "f1ca49a0-2e48-454f-ce28-df2f76da8866"
      },
      "source": [
        "line_to_one_hot_tensor(\"slim shady\", len(vocab)).shape"
      ],
      "execution_count": 114,
      "outputs": [
        {
          "output_type": "execute_result",
          "data": {
            "text/plain": [
              "torch.Size([10, 59])"
            ]
          },
          "metadata": {
            "tags": []
          },
          "execution_count": 114
        }
      ]
    },
    {
      "cell_type": "markdown",
      "metadata": {
        "id": "PeFxwWosxTOZ"
      },
      "source": [
        "# Model"
      ]
    },
    {
      "cell_type": "code",
      "metadata": {
        "id": "NaPRHVzHxSyD"
      },
      "source": [
        "class RNN(nn.Module):\n",
        "    def __init__(self, input_size, num_classes):\n",
        "        super(RNN, self).__init__()\n",
        "        self.hidden_size = 128\n",
        "        self.num_layers = 1\n",
        "        self.rnn = nn.RNN(input_size, self.hidden_size, self.num_layers, batch_first=True)\n",
        "        self.fc = nn.Linear(self.hidden_size, num_classes)\n",
        "        self.softmax = nn.LogSoftmax(dim=1)\n",
        "    \n",
        "    def init_hidden(self):\n",
        "        return torch.randn(self.num_layers, 1, self.hidden_size).to(device), None  # to make it match with LSTM\n",
        "\n",
        "    def forward(self, x, h0):\n",
        "        out, h0 = self.rnn(x, h0)\n",
        "        # out = out.reshape(out.shape[0], -1)\n",
        "        out = out[:, -1, :]\n",
        "        out = self.softmax(self.fc(out))\n",
        "        return out, h0, None  # the 3rd arg is to make it match with LSTM api\n",
        "\n",
        "\n",
        "class ManualRNN(nn.Module):\n",
        "    # from: https://pytorch.org/tutorials/intermediate/char_rnn_classification_tutorial.html\n",
        "    # (with modifications)\n",
        "    def __init__(self, input_size, num_classes):\n",
        "        super(ManualRNN, self).__init__()\n",
        "        \n",
        "        self.hidden_size = 128\n",
        "        self.i2h = nn.Linear(input_size + self.hidden_size, self.hidden_size)\n",
        "        self.i2o = nn.Linear(input_size + self.hidden_size, num_classes)\n",
        "        self.softmax = nn.LogSoftmax(dim=1)\n",
        "        \n",
        "    def init_hidden(self):\n",
        "        return torch.zeros(1, 1, self.hidden_size).to(device), None  # to make it match with LSTM\n",
        "\n",
        "    def forward(self, input_tensor, hidden_tensor):\n",
        "        combined = torch.cat((input_tensor, hidden_tensor), 2)\n",
        "        \n",
        "        hidden = self.i2h(combined)\n",
        "        output = self.i2o(combined)\n",
        "        output = output[:, -1, :]\n",
        "        output = self.softmax(output)\n",
        "        return output, hidden, None  # the 3rd arg is to make it match with LSTM api\n",
        "\n",
        "\n",
        "class LSTM(nn.Module):\n",
        "    def __init__(self, input_size, num_classes):\n",
        "        super(LSTM, self).__init__()\n",
        "        self.hidden_size = 128\n",
        "        self.num_layers = 1\n",
        "        self.rnn = nn.LSTM(input_size, self.hidden_size, self.num_layers, batch_first=True)\n",
        "        self.fc = nn.Linear(self.hidden_size, num_classes)\n",
        "        self.softmax = nn.LogSoftmax(dim=1)\n",
        "    \n",
        "    def init_hidden(self):\n",
        "        h0 = torch.randn(self.num_layers, 1, self.hidden_size).to(device)\n",
        "        c0 = torch.randn(self.num_layers, 1, self.hidden_size).to(device)\n",
        "        return h0, c0\n",
        "\n",
        "    def forward(self, x, h0, c0):\n",
        "        out, hidden = self.rnn(x, (h0, c0))\n",
        "        h0, c0 = hidden\n",
        "        # out = out.reshape(out.shape[0], -1)\n",
        "        out = out[:, -1, :]\n",
        "        out = self.softmax(self.fc(out))\n",
        "        return out, h0, c0\n",
        "\n",
        "\n",
        "class GRU(nn.Module):\n",
        "    def __init__(self, input_size, num_classes):\n",
        "        super(GRU, self).__init__()\n",
        "        self.hidden_size = 128\n",
        "        self.num_layers = 1\n",
        "        self.rnn = nn.GRU(input_size, self.hidden_size, self.num_layers, batch_first=True)\n",
        "        self.fc = nn.Linear(self.hidden_size, num_classes)\n",
        "        self.softmax = nn.LogSoftmax(dim=1)\n",
        "    \n",
        "    def init_hidden(self):\n",
        "        return torch.randn(self.num_layers, 1, self.hidden_size).to(device), None  # to make it match with LSTM\n",
        "\n",
        "    def forward(self, x, h0):\n",
        "        out, hidden = self.rnn(x, h0)\n",
        "        # out = out.reshape(out.shape[0], -1)\n",
        "        out = out[:, -1, :]\n",
        "        out = self.softmax(self.fc(out))\n",
        "        return out, hidden, None  # the 3rd arg is to make it match with LSTM api\n",
        "\n",
        "\n",
        "# model = RNN(len(vocab), len(data)).to(device)\n",
        "# model = LSTM(len(vocab), len(data)).to(device)\n",
        "# model = GRU(len(vocab), len(data)).to(device)\n",
        "# model = ManualRNN(len(vocab), len(data)).to(device)\n",
        "# => moved to the bottom\n",
        "\n",
        "# Loss and optimizer\n",
        "# criterion = nn.CrossEntropyLoss()\n",
        "criterion = nn.NLLLoss(weight=torch.FloatTensor(loss_weights).to(device))\n",
        "learning_rate = 0.005\n",
        "# learning_rate = 0.0001\n",
        "optimizer = lambda mdl: torch.optim.SGD(mdl.parameters(), lr=learning_rate)  \n",
        "# optimizer = lambda mdl: torch.optim.Adam(mdl.parameters(), lr=learning_rate)"
      ],
      "execution_count": 115,
      "outputs": []
    },
    {
      "cell_type": "code",
      "metadata": {
        "id": "XrYAQvUIIunJ"
      },
      "source": [
        "def softmax_to_prediction(softmax_output, classes):\n",
        "    return classes[torch.argmax(softmax_output).item()]"
      ],
      "execution_count": 116,
      "outputs": []
    },
    {
      "cell_type": "code",
      "metadata": {
        "id": "n5oR05jIDPjp",
        "colab": {
          "base_uri": "https://localhost:8080/"
        },
        "outputId": "a261b8f9-9356-4eec-d467-89ee8368f65c"
      },
      "source": [
        "# one step test\n",
        "model_test = ManualRNN(len(vocab), len(data)).to(device)\n",
        "input_tensor = ltr_one_hot('a', len(vocab)).to(device).unsqueeze(0)  # unsqueeze to imitate batch of size 1\n",
        "input_tensor = input_tensor.type(torch.FloatTensor).to(device)\n",
        "h0, c0 = model_test.init_hidden()\n",
        "\n",
        "if c0 is None:\n",
        "    output, next_hidden, _ = model_test(input_tensor, h0)\n",
        "else:\n",
        "    # LSTM\n",
        "    output, next_hidden, cell_state = model_test(input_tensor.type(torch.FloatTensor), h0, c0)\n",
        "\n",
        "print(f'input_tensor {input_tensor.shape}:\\n{input_tensor}')\n",
        "print(f'output {output.size()}')\n",
        "print(f'next_hidden {next_hidden.size()}')\n",
        "\n",
        "print(f'\\nPrediction: {id_to_lbl(softmax_to_prediction(output, encoded_lbls))}')\n",
        "model_test = None"
      ],
      "execution_count": 117,
      "outputs": [
        {
          "output_type": "stream",
          "text": [
            "input_tensor torch.Size([1, 1, 59]):\n",
            "tensor([[[0., 0., 0., 0., 0., 0., 0., 0., 0., 0., 0., 0., 0., 0., 0., 0., 0.,\n",
            "          0., 0., 0., 0., 0., 0., 0., 0., 0., 0., 0., 0., 0., 0., 0., 0., 1.,\n",
            "          0., 0., 0., 0., 0., 0., 0., 0., 0., 0., 0., 0., 0., 0., 0., 0., 0.,\n",
            "          0., 0., 0., 0., 0., 0., 0., 0.]]])\n",
            "output torch.Size([1, 16])\n",
            "next_hidden torch.Size([1, 1, 128])\n",
            "\n",
            "Prediction: Spanish\n"
          ],
          "name": "stdout"
        }
      ]
    },
    {
      "cell_type": "code",
      "metadata": {
        "id": "g3ZUKq3tZIt9"
      },
      "source": [
        "def plot_confusion_matrix(cm, classes,\n",
        "                        normalize=False,\n",
        "                        title='Confusion matrix',\n",
        "                        cmap=plt.cm.Blues,\n",
        "                        figsize=None):\n",
        "    \"\"\"\n",
        "    This function prints and plots the confusion matrix.\n",
        "    Normalization can be applied by setting `normalize=True`.\n",
        "    From: https://scikit-learn.org/stable/modules/generated/sklearn.metrics.plot_confusion_matrix.html\n",
        "    \"\"\"\n",
        "\n",
        "    def calc_acc(cm):\n",
        "        correct = 0\n",
        "        for i in range(len(cm)):\n",
        "            correct += cm[i][i]\n",
        "        return correct / cm.sum(axis=1).sum()\n",
        "    \n",
        "    cm_acc = calc_acc(cm)\n",
        "\n",
        "    if normalize:\n",
        "        cm = np.round(cm.astype('float') / cm.sum(axis=1)[:, np.newaxis], 2)\n",
        "        print(\"Normalized confusion matrix\")\n",
        "    else:\n",
        "        print('Confusion matrix, without normalization')\n",
        "        \n",
        "    if figsize is None:\n",
        "        figsize = (30,10)\n",
        "    plt.figure(figsize=figsize)\n",
        "    plt.imshow(cm, interpolation='nearest', cmap=cmap)\n",
        "    plt.title(f'{title}\\nAccuracy: {cm_acc*100:.2f}%')\n",
        "    plt.colorbar()\n",
        "    tick_marks = np.arange(len(classes))\n",
        "    plt.xticks(tick_marks, classes, rotation=45)\n",
        "    plt.yticks(tick_marks, classes)\n",
        "\n",
        "    thresh = cm.max() / 2.\n",
        "    for i, j in itertools.product(range(cm.shape[0]), range(cm.shape[1])):\n",
        "        plt.text(j, i, cm[i, j],\n",
        "            horizontalalignment=\"center\",\n",
        "            color=\"white\" if cm[i, j] > thresh else \"black\")\n",
        "\n",
        "    plt.tight_layout()\n",
        "    plt.ylabel('True label')\n",
        "    plt.xlabel('Predicted label')"
      ],
      "execution_count": 118,
      "outputs": []
    },
    {
      "cell_type": "code",
      "metadata": {
        "id": "e8OB85wYLvCa"
      },
      "source": [
        "def evaluate(model, optim, line_tensor, category_tensor, train=False, log=False):\n",
        "    h0, c0 = model.init_hidden()\n",
        "    \n",
        "    for ltr_one_hot in line_tensor[0]:\n",
        "        if c0 is None:\n",
        "            output, h0, _ = model(torch.reshape(ltr_one_hot, (1,1,-1)), h0)\n",
        "        else:\n",
        "            # LSTM\n",
        "            output, h0, c0 = model(torch.reshape(ltr_one_hot, (1,1,-1)), h0, c0)\n",
        "    \n",
        "    if log:\n",
        "        print(f'output {output.shape}:\\n{output}')\n",
        "        print(f'category_tensor {category_tensor.shape}:\\n{category_tensor}')\n",
        "    loss = criterion(output, category_tensor)\n",
        "    \n",
        "    if train:\n",
        "        optim.zero_grad()\n",
        "        loss.backward()\n",
        "        optim.step()\n",
        "    \n",
        "    return output, loss.item()"
      ],
      "execution_count": 119,
      "outputs": []
    },
    {
      "cell_type": "code",
      "metadata": {
        "id": "cKQgv542MrL2"
      },
      "source": [
        "def train(model):\n",
        "    ts = datetime.now()\n",
        "    print(ts)\n",
        "    print('')\n",
        "\n",
        "    optim = optimizer(model)\n",
        "    train_losses, validation_losses = [], []\n",
        "    epochs = 30\n",
        "    model.train(mode=True)\n",
        "    for epoch in range(epochs):\n",
        "        epoch_train_loss, epoch_validation_loss = 0, 0\n",
        "        for name_tensor, label in train_loader:\n",
        "            name_tensor, label = name_tensor.to(device), label.to(device)\n",
        "\n",
        "            output, loss = evaluate(model, optim, name_tensor, label, train=True)\n",
        "            epoch_train_loss += loss\n",
        "        \n",
        "        train_losses.append(epoch_train_loss / len(training_dataset))\n",
        "\n",
        "        # validation eval\n",
        "        model.train(mode=False)  # enter eval mode\n",
        "        for val_data, val_labels in test_loader:\n",
        "            val_data, val_labels = val_data.to(device), val_labels.to(device)\n",
        "            \n",
        "            val_output, val_loss = evaluate(model, None, val_data, val_labels)\n",
        "            epoch_validation_loss += val_loss\n",
        "            \n",
        "        validation_losses.append(epoch_validation_loss / len(test_dataset))\n",
        "        model.train(mode=True)  # exit eval mode, re-enter training mode\n",
        "            \n",
        "        print(f\"Epoch {epoch}: Training Loss: {train_losses[-1]:.4f}, Validation Loss: {validation_losses[-1]:.4f}\")\n",
        "            \n",
        "\n",
        "    print('')\n",
        "    print(f'Training Time: {datetime.now() - ts}')\n",
        "    return train_losses, validation_losses"
      ],
      "execution_count": 120,
      "outputs": []
    },
    {
      "cell_type": "code",
      "metadata": {
        "id": "v9slhmMK4uBq"
      },
      "source": [
        "def test(model):\n",
        "    y_true, y_pred = [], []\n",
        "    model.train(mode=False)  # enter eval mode\n",
        "    # with torch.no_grad():  # locally disable gradient tracking? (no, should not do it in RNN, becaues we do want grads to accumulate!)\n",
        "    test_num = -1\n",
        "    print_cnt, print_num = 0, 20\n",
        "    for i, (val_data, val_labels) in enumerate(test_loader):\n",
        "        val_data, val_labels = val_data.to(device), val_labels.to(device)\n",
        "        \n",
        "        val_output, _ = evaluate(model, None, val_data, val_labels)\n",
        "        pred_id = softmax_to_prediction(val_output, encoded_lbls)\n",
        "        \n",
        "        y_true.append(val_labels.item())\n",
        "        y_pred.append(pred_id)\n",
        "\n",
        "        pred = id_to_lbl(pred_id)\n",
        "\n",
        "        name = one_hot_tensor_to_line(val_data.squeeze(0))\n",
        "        lbl = id_to_lbl(val_labels)\n",
        "        \n",
        "        if print_cnt < print_num:\n",
        "            print(f\"Name: {name:<16} Label: {lbl:<20} Prediction: {pred:<16} -- {'CORRECT' if lbl == pred else 'INCORRECT'}\")\n",
        "            print_cnt += 1\n",
        "        \n",
        "        if i == test_num:\n",
        "            break\n",
        "    \n",
        "    return y_true, y_pred"
      ],
      "execution_count": 121,
      "outputs": []
    },
    {
      "cell_type": "code",
      "metadata": {
        "id": "-kJBJG3r2mkq"
      },
      "source": [
        "def plot_progress(train_losses, validation_losses):\n",
        "    plt.figure()\n",
        "    plt.plot(train_losses)\n",
        "    plt.plot(validation_losses)\n",
        "    plt.legend(['Training Loss', 'Validation Loss'])\n",
        "    plt.show()"
      ],
      "execution_count": 122,
      "outputs": []
    },
    {
      "cell_type": "code",
      "metadata": {
        "colab": {
          "base_uri": "https://localhost:8080/",
          "height": 705
        },
        "id": "bdG5TWt9n1Zu",
        "outputId": "df06e384-4dd5-4e6b-9e26-54b1bfdc2da1"
      },
      "source": [
        "manual_rnn_model = ManualRNN(len(vocab), len(data)).to(device)\n",
        "print(manual_rnn_model)\n",
        "train_losses, validation_losses = train(manual_rnn_model)\n",
        "plot_progress(train_losses, validation_losses)\n",
        "_,_ = test(manual_rnn_model)"
      ],
      "execution_count": 126,
      "outputs": [
        {
          "output_type": "stream",
          "text": [
            "ManualRNN(\n",
            "  (i2h): Linear(in_features=187, out_features=128, bias=True)\n",
            "  (i2o): Linear(in_features=187, out_features=16, bias=True)\n",
            "  (softmax): LogSoftmax(dim=1)\n",
            ")\n"
          ],
          "name": "stdout"
        },
        {
          "output_type": "display_data",
          "data": {
            "image/png": "[encoded data removed]",
            "text/plain": [
              "<Figure size 432x288 with 1 Axes>"
            ]
          },
          "metadata": {
            "tags": [],
            "needs_background": "light"
          }
        },
        {
          "output_type": "stream",
          "text": [
            "Name: Dobropolsky      Label: Russian              Prediction: Russian          -- CORRECT\n",
            "Name: Foster           Label: English              Prediction: English          -- CORRECT\n",
            "Name: Atherley         Label: English              Prediction: English          -- CORRECT\n",
            "Name: Shahmin          Label: Russian              Prediction: Russian          -- CORRECT\n",
            "Name: Jelyabovsky      Label: Russian              Prediction: Russian          -- CORRECT\n",
            "Name: Enshin           Label: Russian              Prediction: Russian          -- CORRECT\n",
            "Name: Val              Label: Russian              Prediction: Russian          -- CORRECT\n",
            "Name: Gronchi          Label: Italian              Prediction: Japanese         -- INCORRECT\n",
            "Name: Djisev           Label: Russian              Prediction: Russian          -- CORRECT\n",
            "Name: Veselkov         Label: Russian              Prediction: Russian          -- CORRECT\n",
            "Name: Vertkov          Label: Russian              Prediction: Russian          -- CORRECT\n",
            "Name: Tzaran           Label: Russian              Prediction: English          -- INCORRECT\n",
            "Name: Layton           Label: English              Prediction: English          -- CORRECT\n",
            "Name: Tropp            Label: Russian              Prediction: English          -- INCORRECT\n",
            "Name: Gatilov          Label: Russian              Prediction: Russian          -- CORRECT\n",
            "Name: Takimoto         Label: Japanese             Prediction: Japanese         -- CORRECT\n",
            "Name: Quraishi         Label: Arabic               Prediction: Arabic           -- CORRECT\n",
            "Name: Koury            Label: Arabic               Prediction: Arabic           -- CORRECT\n",
            "Name: Schneider        Label: Dutch                Prediction: English          -- INCORRECT\n",
            "Name: Tubylov          Label: Russian              Prediction: Russian          -- CORRECT\n"
          ],
          "name": "stdout"
        }
      ]
    },
    {
      "cell_type": "code",
      "metadata": {
        "colab": {
          "base_uri": "https://localhost:8080/",
          "height": 705
        },
        "id": "Q38YnRCCnocW",
        "outputId": "cbf8ceb5-2b27-4822-bd14-912d2ece9a65"
      },
      "source": [
        "rnn_model = RNN(len(vocab), len(data)).to(device)\n",
        "print(rnn_model)\n",
        "train_losses, validation_losses = train(rnn_model)\n",
        "plot_progress(train_losses, validation_losses)\n",
        "_,_ = test(rnn_model)"
      ],
      "execution_count": 127,
      "outputs": [
        {
          "output_type": "stream",
          "text": [
            "RNN(\n",
            "  (rnn): RNN(59, 128, batch_first=True)\n",
            "  (fc): Linear(in_features=128, out_features=16, bias=True)\n",
            "  (softmax): LogSoftmax(dim=1)\n",
            ")\n"
          ],
          "name": "stdout"
        },
        {
          "output_type": "display_data",
          "data": {
            "image/png": "[encoded data removed]",
            "text/plain": [
              "<Figure size 432x288 with 1 Axes>"
            ]
          },
          "metadata": {
            "tags": [],
            "needs_background": "light"
          }
        },
        {
          "output_type": "stream",
          "text": [
            "Name: Najjar           Label: Arabic               Prediction: Arabic           -- CORRECT\n",
            "Name: Layton           Label: English              Prediction: English          -- CORRECT\n",
            "Name: Takeshita        Label: Japanese             Prediction: Japanese         -- CORRECT\n",
            "Name: Katsibin         Label: Russian              Prediction: Russian          -- CORRECT\n",
            "Name: Vedenkin         Label: Russian              Prediction: Russian          -- CORRECT\n",
            "Name: Rocchi           Label: Italian              Prediction: Italian          -- CORRECT\n",
            "Name: Iskandaryan      Label: Russian              Prediction: Russian          -- CORRECT\n",
            "Name: Orritt           Label: English              Prediction: English          -- CORRECT\n",
            "Name: Vaughan          Label: English              Prediction: English          -- CORRECT\n",
            "Name: Babkeev          Label: Russian              Prediction: Russian          -- CORRECT\n",
            "Name: Gansky           Label: Russian              Prediction: Russian          -- CORRECT\n",
            "Name: Gil              Label: Korean               Prediction: Russian          -- INCORRECT\n",
            "Name: Remezov          Label: Russian              Prediction: Russian          -- CORRECT\n",
            "Name: Emlin            Label: Russian              Prediction: Russian          -- CORRECT\n",
            "Name: Oinuma           Label: Japanese             Prediction: Japanese         -- CORRECT\n",
            "Name: Galkin-Vraskoi   Label: Russian              Prediction: Russian          -- CORRECT\n",
            "Name: Lezhankin        Label: Russian              Prediction: Russian          -- CORRECT\n",
            "Name: Dubatolov        Label: Russian              Prediction: Russian          -- CORRECT\n",
            "Name: Batchurin        Label: Russian              Prediction: Russian          -- CORRECT\n",
            "Name: Pitterman        Label: Czech                Prediction: Russian          -- INCORRECT\n"
          ],
          "name": "stdout"
        }
      ]
    },
    {
      "cell_type": "code",
      "metadata": {
        "colab": {
          "base_uri": "https://localhost:8080/",
          "height": 705
        },
        "id": "qYjIatzonupR",
        "outputId": "da950cf5-e43f-4831-ed71-b221abd4278c"
      },
      "source": [
        "lstm_model = LSTM(len(vocab), len(data)).to(device)\n",
        "print(lstm_model)\n",
        "train_losses, validation_losses = train(lstm_model)\n",
        "plot_progress(train_losses, validation_losses)\n",
        "_,_ = test(lstm_model)"
      ],
      "execution_count": 128,
      "outputs": [
        {
          "output_type": "stream",
          "text": [
            "LSTM(\n",
            "  (rnn): LSTM(59, 128, batch_first=True)\n",
            "  (fc): Linear(in_features=128, out_features=16, bias=True)\n",
            "  (softmax): LogSoftmax(dim=1)\n",
            ")\n"
          ],
          "name": "stdout"
        },
        {
          "output_type": "display_data",
          "data": {
            "image/png": "[encoded data removed]",
            "text/plain": [
              "<Figure size 432x288 with 1 Axes>"
            ]
          },
          "metadata": {
            "tags": [],
            "needs_background": "light"
          }
        },
        {
          "output_type": "stream",
          "text": [
            "Name: Ghannam          Label: Arabic               Prediction: Arabic           -- CORRECT\n",
            "Name: Deeley           Label: English              Prediction: English          -- CORRECT\n",
            "Name: Close            Label: Greek                Prediction: English          -- INCORRECT\n",
            "Name: Pochkaev         Label: Russian              Prediction: Russian          -- CORRECT\n",
            "Name: Kalakos          Label: Greek                Prediction: Greek            -- CORRECT\n",
            "Name: Pahtanov         Label: Russian              Prediction: Russian          -- CORRECT\n",
            "Name: Dubman           Label: Russian              Prediction: Russian          -- CORRECT\n",
            "Name: Yeomans          Label: English              Prediction: English          -- CORRECT\n",
            "Name: Jovnerik         Label: Russian              Prediction: Russian          -- CORRECT\n",
            "Name: Hamidulin        Label: Russian              Prediction: Russian          -- CORRECT\n",
            "Name: Wasem            Label: Arabic               Prediction: Arabic           -- CORRECT\n",
            "Name: Qiu              Label: Chinese              Prediction: Chinese          -- CORRECT\n",
            "Name: Vilchek          Label: Russian              Prediction: Czech            -- INCORRECT\n",
            "Name: Ellrott          Label: English              Prediction: English          -- CORRECT\n",
            "Name: Fewtrell         Label: English              Prediction: English          -- CORRECT\n",
            "Name: Kassab           Label: Arabic               Prediction: Arabic           -- CORRECT\n",
            "Name: Nicolas          Label: English              Prediction: Greek            -- INCORRECT\n",
            "Name: Toma             Label: Arabic               Prediction: Arabic           -- CORRECT\n",
            "Name: Walker           Label: English              Prediction: English          -- CORRECT\n",
            "Name: Robins           Label: English              Prediction: Russian          -- INCORRECT\n"
          ],
          "name": "stdout"
        }
      ]
    },
    {
      "cell_type": "code",
      "metadata": {
        "colab": {
          "base_uri": "https://localhost:8080/",
          "height": 1000
        },
        "id": "GtBg88mJynSa",
        "outputId": "44b7e649-066e-4eec-9180-507dd5698ff1"
      },
      "source": [
        "gru_model = GRU(len(vocab), len(data)).to(device)\n",
        "print(gru_model)\n",
        "train_losses, validation_losses = train(gru_model)\n",
        "plot_progress(train_losses, validation_losses)\n",
        "y_true, y_pred = test(gru_model)\n",
        "\n",
        "cm = confusion_matrix(y_true=y_true, y_pred=y_pred)\n",
        "plot_confusion_matrix(cm=cm, classes=le.classes_, title='Confusion Matrix', normalize=True)"
      ],
      "execution_count": 99,
      "outputs": [
        {
          "output_type": "stream",
          "text": [
            "GRU(\n",
            "  (rnn): GRU(59, 128, batch_first=True)\n",
            "  (fc): Linear(in_features=128, out_features=16, bias=True)\n",
            "  (softmax): LogSoftmax(dim=1)\n",
            ")\n",
            "2021-08-04 10:28:28.268167\n",
            "\n",
            "Epoch 0: Training Loss: 1.5416, Validation Loss: 1.3454\n",
            "Epoch 1: Training Loss: 1.2513, Validation Loss: 1.1672\n",
            "Epoch 2: Training Loss: 1.1139, Validation Loss: 1.0701\n",
            "Epoch 3: Training Loss: 1.0328, Validation Loss: 0.9980\n",
            "Epoch 4: Training Loss: 0.9792, Validation Loss: 0.9472\n",
            "Epoch 5: Training Loss: 0.9353, Validation Loss: 0.9270\n",
            "Epoch 6: Training Loss: 0.9029, Validation Loss: 0.8900\n",
            "Epoch 7: Training Loss: 0.8713, Validation Loss: 0.8717\n",
            "Epoch 8: Training Loss: 0.8429, Validation Loss: 0.8477\n",
            "Epoch 9: Training Loss: 0.8176, Validation Loss: 0.8317\n",
            "Epoch 10: Training Loss: 0.7933, Validation Loss: 0.7901\n",
            "Epoch 11: Training Loss: 0.7640, Validation Loss: 0.7762\n",
            "Epoch 12: Training Loss: 0.7419, Validation Loss: 0.7632\n",
            "Epoch 13: Training Loss: 0.7200, Validation Loss: 0.7503\n",
            "Epoch 14: Training Loss: 0.6995, Validation Loss: 0.7188\n",
            "Epoch 15: Training Loss: 0.6742, Validation Loss: 0.6969\n",
            "Epoch 16: Training Loss: 0.6582, Validation Loss: 0.6841\n",
            "Epoch 17: Training Loss: 0.6364, Validation Loss: 0.6775\n",
            "Epoch 18: Training Loss: 0.6179, Validation Loss: 0.6661\n",
            "Epoch 19: Training Loss: 0.6012, Validation Loss: 0.6687\n",
            "Epoch 20: Training Loss: 0.5855, Validation Loss: 0.6546\n",
            "Epoch 21: Training Loss: 0.5684, Validation Loss: 0.6547\n",
            "Epoch 22: Training Loss: 0.5547, Validation Loss: 0.6417\n",
            "Epoch 23: Training Loss: 0.5440, Validation Loss: 0.6151\n",
            "Epoch 24: Training Loss: 0.5255, Validation Loss: 0.6114\n",
            "Epoch 25: Training Loss: 0.5134, Validation Loss: 0.6224\n",
            "Epoch 26: Training Loss: 0.5006, Validation Loss: 0.6087\n",
            "Epoch 27: Training Loss: 0.4881, Validation Loss: 0.6194\n",
            "Epoch 28: Training Loss: 0.4764, Validation Loss: 0.5973\n",
            "Epoch 29: Training Loss: 0.4641, Validation Loss: 0.5920\n",
            "\n",
            "Training Time: 0:30:09.353618\n"
          ],
          "name": "stdout"
        },
        {
          "output_type": "display_data",
          "data": {
            "image/png": "[encoded data removed]",
            "text/plain": [
              "<Figure size 432x288 with 1 Axes>"
            ]
          },
          "metadata": {
            "tags": [],
            "needs_background": "light"
          }
        },
        {
          "output_type": "stream",
          "text": [
            "Name: Atlanov          Label: Russian              Prediction: Russian          -- CORRECT\n",
            "Name: Bekhterev        Label: Russian              Prediction: Russian          -- CORRECT\n",
            "Name: Dobroslavin      Label: Russian              Prediction: Russian          -- CORRECT\n",
            "Name: Dougherty        Label: English              Prediction: English          -- CORRECT\n",
            "Name: Abano            Label: Spanish              Prediction: Italian          -- INCORRECT\n",
            "Name: Jalybin          Label: Russian              Prediction: Russian          -- CORRECT\n",
            "Name: Vaca             Label: Czech                Prediction: Italian          -- INCORRECT\n",
            "Name: Peter            Label: German               Prediction: German           -- CORRECT\n",
            "Name: Vingilevsky      Label: Russian              Prediction: Russian          -- CORRECT\n",
            "Name: Noschese         Label: Italian              Prediction: Italian          -- CORRECT\n",
            "Name: Guirguis         Label: Arabic               Prediction: Arabic           -- CORRECT\n",
            "Name: Castro           Label: Portuguese           Prediction: Italian          -- INCORRECT\n",
            "Name: Her              Label: Russian              Prediction: Russian          -- CORRECT\n",
            "Name: Lejepekov        Label: Russian              Prediction: Russian          -- CORRECT\n",
            "Name: Stolarz          Label: Polish               Prediction: Polish           -- CORRECT\n",
            "Name: Tabuchi          Label: Japanese             Prediction: Japanese         -- CORRECT\n",
            "Name: Gaubrich         Label: Russian              Prediction: German           -- INCORRECT\n",
            "Name: Aswad            Label: Arabic               Prediction: Arabic           -- CORRECT\n",
            "Name: Gassan           Label: Russian              Prediction: Russian          -- CORRECT\n",
            "Name: Mifsud           Label: Arabic               Prediction: Arabic           -- CORRECT\n",
            "Normalized confusion matrix\n"
          ],
          "name": "stdout"
        },
        {
          "output_type": "display_data",
          "data": {
            "image/png": "[encoded data removed]",
            "text/plain": [
              "<Figure size 2160x720 with 2 Axes>"
            ]
          },
          "metadata": {
            "tags": [],
            "needs_background": "light"
          }
        }
      ]
    }
  ]
}